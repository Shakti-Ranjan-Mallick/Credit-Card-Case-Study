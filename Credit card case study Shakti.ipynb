{
 "cells": [
  {
   "cell_type": "code",
   "execution_count": 1,
   "id": "8b01c10c",
   "metadata": {},
   "outputs": [],
   "source": [
    "import pandas as pd\n",
    "import numpy as np\n",
    "import matplotlib.pyplot as plt\n",
    "import datetime as dt\n",
    "import seaborn as sns\n",
    "import re\n",
    "\n",
    "# set the graphs to show in the jupyter notebook\n",
    "%matplotlib inline\n",
    "\n",
    "# set seabor graphs to a better style\n",
    "sns.set(style=\"ticks\")"
   ]
  },
  {
   "cell_type": "code",
   "execution_count": 59,
   "id": "cc3c5209",
   "metadata": {},
   "outputs": [],
   "source": [
    "customer_aqusition = pd.read_excel('Credit Card Data.xlsx',sheet_name = 'Customer Acqusition' )\n",
    "\n",
    "repayment = pd.read_excel('Credit Card Data.xlsx',sheet_name = 'Repayment' )\n",
    "\n",
    "spend = pd.read_excel('Credit Card Data.xlsx',sheet_name = 'Spend' )"
   ]
  },
  {
   "cell_type": "markdown",
   "id": "77617666",
   "metadata": {},
   "source": [
    "#### Exploratory Data Analysis"
   ]
  },
  {
   "cell_type": "code",
   "execution_count": 3,
   "id": "e376b92e",
   "metadata": {},
   "outputs": [
    {
     "data": {
      "text/plain": [
       "No          0\n",
       "Customer    0\n",
       "Age         0\n",
       "City        0\n",
       "Product     0\n",
       "Limit       0\n",
       "Company     0\n",
       "Segment     0\n",
       "dtype: int64"
      ]
     },
     "execution_count": 3,
     "metadata": {},
     "output_type": "execute_result"
    }
   ],
   "source": [
    "customer_aqusition.isna().sum()"
   ]
  },
  {
   "cell_type": "code",
   "execution_count": 4,
   "id": "92dabc88",
   "metadata": {},
   "outputs": [
    {
     "name": "stdout",
     "output_type": "stream",
     "text": [
      "<class 'pandas.core.frame.DataFrame'>\n",
      "RangeIndex: 100 entries, 0 to 99\n",
      "Data columns (total 8 columns):\n",
      " #   Column    Non-Null Count  Dtype  \n",
      "---  ------    --------------  -----  \n",
      " 0   No        100 non-null    int64  \n",
      " 1   Customer  100 non-null    object \n",
      " 2   Age       100 non-null    float64\n",
      " 3   City      100 non-null    object \n",
      " 4   Product   100 non-null    object \n",
      " 5   Limit     100 non-null    int64  \n",
      " 6   Company   100 non-null    object \n",
      " 7   Segment   100 non-null    object \n",
      "dtypes: float64(1), int64(2), object(5)\n",
      "memory usage: 6.4+ KB\n"
     ]
    }
   ],
   "source": [
    "customer_aqusition.info()"
   ]
  },
  {
   "cell_type": "code",
   "execution_count": 5,
   "id": "606857df",
   "metadata": {},
   "outputs": [
    {
     "data": {
      "text/plain": [
       "(100, 8)"
      ]
     },
     "execution_count": 5,
     "metadata": {},
     "output_type": "execute_result"
    }
   ],
   "source": [
    "customer_aqusition.shape"
   ]
  },
  {
   "cell_type": "code",
   "execution_count": 6,
   "id": "f4b503ce",
   "metadata": {},
   "outputs": [
    {
     "data": {
      "text/plain": [
       "SL No:      0\n",
       "Customer    0\n",
       "Month       0\n",
       "Amount      0\n",
       "dtype: int64"
      ]
     },
     "execution_count": 6,
     "metadata": {},
     "output_type": "execute_result"
    }
   ],
   "source": [
    "repayment.isna().sum()"
   ]
  },
  {
   "cell_type": "code",
   "execution_count": 7,
   "id": "1b0c6456",
   "metadata": {},
   "outputs": [
    {
     "name": "stdout",
     "output_type": "stream",
     "text": [
      "<class 'pandas.core.frame.DataFrame'>\n",
      "RangeIndex: 1500 entries, 0 to 1499\n",
      "Data columns (total 4 columns):\n",
      " #   Column    Non-Null Count  Dtype         \n",
      "---  ------    --------------  -----         \n",
      " 0   SL No:    1500 non-null   int64         \n",
      " 1   Customer  1500 non-null   object        \n",
      " 2   Month     1500 non-null   datetime64[ns]\n",
      " 3   Amount    1500 non-null   float64       \n",
      "dtypes: datetime64[ns](1), float64(1), int64(1), object(1)\n",
      "memory usage: 47.0+ KB\n"
     ]
    }
   ],
   "source": [
    "repayment.info()"
   ]
  },
  {
   "cell_type": "code",
   "execution_count": 8,
   "id": "da20ee24",
   "metadata": {},
   "outputs": [
    {
     "data": {
      "text/plain": [
       "(1500, 4)"
      ]
     },
     "execution_count": 8,
     "metadata": {},
     "output_type": "execute_result"
    }
   ],
   "source": [
    "repayment.shape"
   ]
  },
  {
   "cell_type": "code",
   "execution_count": 9,
   "id": "ca227cf0",
   "metadata": {},
   "outputs": [
    {
     "data": {
      "text/plain": [
       "Sl No:      0\n",
       "Customer    0\n",
       "Month       0\n",
       "Type        0\n",
       "Amount      0\n",
       "dtype: int64"
      ]
     },
     "execution_count": 9,
     "metadata": {},
     "output_type": "execute_result"
    }
   ],
   "source": [
    "spend.isna().sum()"
   ]
  },
  {
   "cell_type": "code",
   "execution_count": 10,
   "id": "79798db8",
   "metadata": {},
   "outputs": [
    {
     "name": "stdout",
     "output_type": "stream",
     "text": [
      "<class 'pandas.core.frame.DataFrame'>\n",
      "RangeIndex: 1500 entries, 0 to 1499\n",
      "Data columns (total 5 columns):\n",
      " #   Column    Non-Null Count  Dtype         \n",
      "---  ------    --------------  -----         \n",
      " 0   Sl No:    1500 non-null   int64         \n",
      " 1   Customer  1500 non-null   object        \n",
      " 2   Month     1500 non-null   datetime64[ns]\n",
      " 3   Type      1500 non-null   object        \n",
      " 4   Amount    1500 non-null   float64       \n",
      "dtypes: datetime64[ns](1), float64(1), int64(1), object(2)\n",
      "memory usage: 58.7+ KB\n"
     ]
    }
   ],
   "source": [
    "spend.info()"
   ]
  },
  {
   "cell_type": "code",
   "execution_count": 11,
   "id": "bcbb6439",
   "metadata": {},
   "outputs": [
    {
     "data": {
      "text/plain": [
       "(1500, 5)"
      ]
     },
     "execution_count": 11,
     "metadata": {},
     "output_type": "execute_result"
    }
   ],
   "source": [
    "spend.shape"
   ]
  },
  {
   "cell_type": "markdown",
   "id": "dd75f46d",
   "metadata": {},
   "source": [
    "### Merge spend data with  customer_aqusition data as Semi_final_data"
   ]
  },
  {
   "cell_type": "code",
   "execution_count": 60,
   "id": "d3e96e6a",
   "metadata": {},
   "outputs": [
    {
     "data": {
      "text/html": [
       "<div>\n",
       "<style scoped>\n",
       "    .dataframe tbody tr th:only-of-type {\n",
       "        vertical-align: middle;\n",
       "    }\n",
       "\n",
       "    .dataframe tbody tr th {\n",
       "        vertical-align: top;\n",
       "    }\n",
       "\n",
       "    .dataframe thead th {\n",
       "        text-align: right;\n",
       "    }\n",
       "</style>\n",
       "<table border=\"1\" class=\"dataframe\">\n",
       "  <thead>\n",
       "    <tr style=\"text-align: right;\">\n",
       "      <th></th>\n",
       "      <th>Sl No:</th>\n",
       "      <th>Customer</th>\n",
       "      <th>Month</th>\n",
       "      <th>Type</th>\n",
       "      <th>Amount</th>\n",
       "      <th>No</th>\n",
       "      <th>Age</th>\n",
       "      <th>City</th>\n",
       "      <th>Product</th>\n",
       "      <th>Limit</th>\n",
       "      <th>Company</th>\n",
       "      <th>Segment</th>\n",
       "    </tr>\n",
       "  </thead>\n",
       "  <tbody>\n",
       "    <tr>\n",
       "      <th>0</th>\n",
       "      <td>1</td>\n",
       "      <td>A1</td>\n",
       "      <td>2004-01-12</td>\n",
       "      <td>JEWELLERY</td>\n",
       "      <td>344054.980813</td>\n",
       "      <td>1</td>\n",
       "      <td>31.732105</td>\n",
       "      <td>BANGALORE</td>\n",
       "      <td>Gold</td>\n",
       "      <td>500000</td>\n",
       "      <td>C1</td>\n",
       "      <td>Self Employed</td>\n",
       "    </tr>\n",
       "    <tr>\n",
       "      <th>1</th>\n",
       "      <td>2</td>\n",
       "      <td>A1</td>\n",
       "      <td>2004-01-03</td>\n",
       "      <td>PETRO</td>\n",
       "      <td>467747.601626</td>\n",
       "      <td>1</td>\n",
       "      <td>31.732105</td>\n",
       "      <td>BANGALORE</td>\n",
       "      <td>Gold</td>\n",
       "      <td>500000</td>\n",
       "      <td>C1</td>\n",
       "      <td>Self Employed</td>\n",
       "    </tr>\n",
       "  </tbody>\n",
       "</table>\n",
       "</div>"
      ],
      "text/plain": [
       "   Sl No: Customer      Month       Type         Amount  No        Age  \\\n",
       "0       1       A1 2004-01-12  JEWELLERY  344054.980813   1  31.732105   \n",
       "1       2       A1 2004-01-03      PETRO  467747.601626   1  31.732105   \n",
       "\n",
       "        City Product   Limit Company        Segment  \n",
       "0  BANGALORE    Gold  500000      C1  Self Employed  \n",
       "1  BANGALORE    Gold  500000      C1  Self Employed  "
      ]
     },
     "execution_count": 60,
     "metadata": {},
     "output_type": "execute_result"
    }
   ],
   "source": [
    "semi_final_data = pd.merge(left = spend,right = customer_aqusition, left_on = 'Customer',right_on = 'Customer',how = 'left')\n",
    "semi_final_data.head(2)"
   ]
  },
  {
   "cell_type": "markdown",
   "id": "88807822",
   "metadata": {},
   "source": [
    "### Merge Semi_final_data with repayment data as final_data"
   ]
  },
  {
   "cell_type": "code",
   "execution_count": 62,
   "id": "871408a7",
   "metadata": {},
   "outputs": [
    {
     "data": {
      "text/html": [
       "<div>\n",
       "<style scoped>\n",
       "    .dataframe tbody tr th:only-of-type {\n",
       "        vertical-align: middle;\n",
       "    }\n",
       "\n",
       "    .dataframe tbody tr th {\n",
       "        vertical-align: top;\n",
       "    }\n",
       "\n",
       "    .dataframe thead th {\n",
       "        text-align: right;\n",
       "    }\n",
       "</style>\n",
       "<table border=\"1\" class=\"dataframe\">\n",
       "  <thead>\n",
       "    <tr style=\"text-align: right;\">\n",
       "      <th></th>\n",
       "      <th>Sl No:</th>\n",
       "      <th>Customer</th>\n",
       "      <th>Month_Spend</th>\n",
       "      <th>Type</th>\n",
       "      <th>Amount_Spend</th>\n",
       "      <th>No</th>\n",
       "      <th>Age</th>\n",
       "      <th>City</th>\n",
       "      <th>Product</th>\n",
       "      <th>Limit</th>\n",
       "      <th>Company</th>\n",
       "      <th>Segment</th>\n",
       "      <th>SL No:</th>\n",
       "      <th>Month_Repayment</th>\n",
       "      <th>Amount_Repayment</th>\n",
       "    </tr>\n",
       "  </thead>\n",
       "  <tbody>\n",
       "    <tr>\n",
       "      <th>0</th>\n",
       "      <td>1</td>\n",
       "      <td>A1</td>\n",
       "      <td>2004-01-12</td>\n",
       "      <td>JEWELLERY</td>\n",
       "      <td>344054.980813</td>\n",
       "      <td>1</td>\n",
       "      <td>31.732105</td>\n",
       "      <td>BANGALORE</td>\n",
       "      <td>Gold</td>\n",
       "      <td>500000</td>\n",
       "      <td>C1</td>\n",
       "      <td>Self Employed</td>\n",
       "      <td>1</td>\n",
       "      <td>2004-01-12</td>\n",
       "      <td>338932.141919</td>\n",
       "    </tr>\n",
       "    <tr>\n",
       "      <th>1</th>\n",
       "      <td>2</td>\n",
       "      <td>A1</td>\n",
       "      <td>2004-01-03</td>\n",
       "      <td>PETRO</td>\n",
       "      <td>467747.601626</td>\n",
       "      <td>1</td>\n",
       "      <td>31.732105</td>\n",
       "      <td>BANGALORE</td>\n",
       "      <td>Gold</td>\n",
       "      <td>500000</td>\n",
       "      <td>C1</td>\n",
       "      <td>Self Employed</td>\n",
       "      <td>2</td>\n",
       "      <td>2004-01-03</td>\n",
       "      <td>131778.688758</td>\n",
       "    </tr>\n",
       "  </tbody>\n",
       "</table>\n",
       "</div>"
      ],
      "text/plain": [
       "   Sl No: Customer Month_Spend       Type   Amount_Spend  No        Age  \\\n",
       "0       1       A1  2004-01-12  JEWELLERY  344054.980813   1  31.732105   \n",
       "1       2       A1  2004-01-03      PETRO  467747.601626   1  31.732105   \n",
       "\n",
       "        City Product   Limit Company        Segment  SL No: Month_Repayment  \\\n",
       "0  BANGALORE    Gold  500000      C1  Self Employed       1      2004-01-12   \n",
       "1  BANGALORE    Gold  500000      C1  Self Employed       2      2004-01-03   \n",
       "\n",
       "   Amount_Repayment  \n",
       "0     338932.141919  \n",
       "1     131778.688758  "
      ]
     },
     "execution_count": 62,
     "metadata": {},
     "output_type": "execute_result"
    }
   ],
   "source": [
    "final_data = pd.merge(left = semi_final_data,right = repayment,left_on = ['Sl No:','Customer'],right_on=['SL No:','Customer'],how = 'inner',suffixes=('_Spend','_Repayment'))\n",
    "final_data.head(2)"
   ]
  },
  {
   "cell_type": "markdown",
   "id": "fa07ce83",
   "metadata": {},
   "source": [
    "## 1. In the above dataset"
   ]
  },
  {
   "cell_type": "markdown",
   "id": "a29ecc82",
   "metadata": {},
   "source": [
    "### a. In case age is less than 18, replace it with mean of age values"
   ]
  },
  {
   "cell_type": "code",
   "execution_count": 63,
   "id": "33fc1534",
   "metadata": {},
   "outputs": [],
   "source": [
    "customer_aqusition[customer_aqusition.Age < 18] = customer_aqusition.Age.mean()"
   ]
  },
  {
   "cell_type": "markdown",
   "id": "b1685e81",
   "metadata": {},
   "source": [
    "### b. In case spend amount is more than the limit, replace it with 50% of that customer’s limit. (customer’s limit provided in acquisition table is the per transaction limit on his card) "
   ]
  },
  {
   "cell_type": "code",
   "execution_count": 64,
   "id": "38d714b0",
   "metadata": {},
   "outputs": [
    {
     "data": {
      "text/html": [
       "<div>\n",
       "<style scoped>\n",
       "    .dataframe tbody tr th:only-of-type {\n",
       "        vertical-align: middle;\n",
       "    }\n",
       "\n",
       "    .dataframe tbody tr th {\n",
       "        vertical-align: top;\n",
       "    }\n",
       "\n",
       "    .dataframe thead th {\n",
       "        text-align: right;\n",
       "    }\n",
       "</style>\n",
       "<table border=\"1\" class=\"dataframe\">\n",
       "  <thead>\n",
       "    <tr style=\"text-align: right;\">\n",
       "      <th></th>\n",
       "      <th>Sl No:</th>\n",
       "      <th>Customer</th>\n",
       "      <th>Month</th>\n",
       "      <th>Type</th>\n",
       "      <th>Amount</th>\n",
       "      <th>No</th>\n",
       "      <th>Age</th>\n",
       "      <th>City</th>\n",
       "      <th>Product</th>\n",
       "      <th>Limit</th>\n",
       "      <th>Company</th>\n",
       "      <th>Segment</th>\n",
       "    </tr>\n",
       "  </thead>\n",
       "  <tbody>\n",
       "    <tr>\n",
       "      <th>0</th>\n",
       "      <td>1</td>\n",
       "      <td>A1</td>\n",
       "      <td>2004-01-12</td>\n",
       "      <td>JEWELLERY</td>\n",
       "      <td>344054.980813</td>\n",
       "      <td>1</td>\n",
       "      <td>31.732105</td>\n",
       "      <td>BANGALORE</td>\n",
       "      <td>Gold</td>\n",
       "      <td>500000</td>\n",
       "      <td>C1</td>\n",
       "      <td>Self Employed</td>\n",
       "    </tr>\n",
       "    <tr>\n",
       "      <th>1</th>\n",
       "      <td>2</td>\n",
       "      <td>A1</td>\n",
       "      <td>2004-01-03</td>\n",
       "      <td>PETRO</td>\n",
       "      <td>467747.601626</td>\n",
       "      <td>1</td>\n",
       "      <td>31.732105</td>\n",
       "      <td>BANGALORE</td>\n",
       "      <td>Gold</td>\n",
       "      <td>500000</td>\n",
       "      <td>C1</td>\n",
       "      <td>Self Employed</td>\n",
       "    </tr>\n",
       "    <tr>\n",
       "      <th>2</th>\n",
       "      <td>3</td>\n",
       "      <td>A1</td>\n",
       "      <td>2004-01-15</td>\n",
       "      <td>CLOTHES</td>\n",
       "      <td>86878.954735</td>\n",
       "      <td>1</td>\n",
       "      <td>31.732105</td>\n",
       "      <td>BANGALORE</td>\n",
       "      <td>Gold</td>\n",
       "      <td>500000</td>\n",
       "      <td>C1</td>\n",
       "      <td>Self Employed</td>\n",
       "    </tr>\n",
       "    <tr>\n",
       "      <th>3</th>\n",
       "      <td>4</td>\n",
       "      <td>A1</td>\n",
       "      <td>2004-01-25</td>\n",
       "      <td>FOOD</td>\n",
       "      <td>269175.011875</td>\n",
       "      <td>1</td>\n",
       "      <td>31.732105</td>\n",
       "      <td>BANGALORE</td>\n",
       "      <td>Gold</td>\n",
       "      <td>500000</td>\n",
       "      <td>C1</td>\n",
       "      <td>Self Employed</td>\n",
       "    </tr>\n",
       "    <tr>\n",
       "      <th>4</th>\n",
       "      <td>5</td>\n",
       "      <td>A1</td>\n",
       "      <td>2005-01-17</td>\n",
       "      <td>CAMERA</td>\n",
       "      <td>3406.639477</td>\n",
       "      <td>1</td>\n",
       "      <td>31.732105</td>\n",
       "      <td>BANGALORE</td>\n",
       "      <td>Gold</td>\n",
       "      <td>500000</td>\n",
       "      <td>C1</td>\n",
       "      <td>Self Employed</td>\n",
       "    </tr>\n",
       "    <tr>\n",
       "      <th>...</th>\n",
       "      <td>...</td>\n",
       "      <td>...</td>\n",
       "      <td>...</td>\n",
       "      <td>...</td>\n",
       "      <td>...</td>\n",
       "      <td>...</td>\n",
       "      <td>...</td>\n",
       "      <td>...</td>\n",
       "      <td>...</td>\n",
       "      <td>...</td>\n",
       "      <td>...</td>\n",
       "      <td>...</td>\n",
       "    </tr>\n",
       "    <tr>\n",
       "      <th>1495</th>\n",
       "      <td>1496</td>\n",
       "      <td>A67</td>\n",
       "      <td>2006-02-04</td>\n",
       "      <td>BUS TICKET</td>\n",
       "      <td>418316.710886</td>\n",
       "      <td>67</td>\n",
       "      <td>28.540941</td>\n",
       "      <td>CHENNAI</td>\n",
       "      <td>Gold</td>\n",
       "      <td>500000</td>\n",
       "      <td>C29</td>\n",
       "      <td>Normal Salary</td>\n",
       "    </tr>\n",
       "    <tr>\n",
       "      <th>1496</th>\n",
       "      <td>1497</td>\n",
       "      <td>A68</td>\n",
       "      <td>2006-03-25</td>\n",
       "      <td>BUS TICKET</td>\n",
       "      <td>50000.000000</td>\n",
       "      <td>68</td>\n",
       "      <td>29.983443</td>\n",
       "      <td>TRIVANDRUM</td>\n",
       "      <td>Silver</td>\n",
       "      <td>100000</td>\n",
       "      <td>C30</td>\n",
       "      <td>Self Employed</td>\n",
       "    </tr>\n",
       "    <tr>\n",
       "      <th>1497</th>\n",
       "      <td>1498</td>\n",
       "      <td>A69</td>\n",
       "      <td>2006-03-31</td>\n",
       "      <td>BUS TICKET</td>\n",
       "      <td>5000.000000</td>\n",
       "      <td>69</td>\n",
       "      <td>23.187436</td>\n",
       "      <td>CALCUTTA</td>\n",
       "      <td>Platimum</td>\n",
       "      <td>10000</td>\n",
       "      <td>C31</td>\n",
       "      <td>Self Employed</td>\n",
       "    </tr>\n",
       "    <tr>\n",
       "      <th>1498</th>\n",
       "      <td>1499</td>\n",
       "      <td>A70</td>\n",
       "      <td>2006-03-23</td>\n",
       "      <td>BUS TICKET</td>\n",
       "      <td>5000.500000</td>\n",
       "      <td>70</td>\n",
       "      <td>65.625571</td>\n",
       "      <td>BOMBAY</td>\n",
       "      <td>Platimum</td>\n",
       "      <td>10001</td>\n",
       "      <td>C32</td>\n",
       "      <td>Self Employed</td>\n",
       "    </tr>\n",
       "    <tr>\n",
       "      <th>1499</th>\n",
       "      <td>1500</td>\n",
       "      <td>A71</td>\n",
       "      <td>2006-03-24</td>\n",
       "      <td>BUS TICKET</td>\n",
       "      <td>5001.000000</td>\n",
       "      <td>71</td>\n",
       "      <td>77.412181</td>\n",
       "      <td>BOMBAY</td>\n",
       "      <td>Platimum</td>\n",
       "      <td>10002</td>\n",
       "      <td>C33</td>\n",
       "      <td>Self Employed</td>\n",
       "    </tr>\n",
       "  </tbody>\n",
       "</table>\n",
       "<p>1500 rows × 12 columns</p>\n",
       "</div>"
      ],
      "text/plain": [
       "      Sl No: Customer      Month        Type         Amount  No        Age  \\\n",
       "0          1       A1 2004-01-12   JEWELLERY  344054.980813   1  31.732105   \n",
       "1          2       A1 2004-01-03       PETRO  467747.601626   1  31.732105   \n",
       "2          3       A1 2004-01-15     CLOTHES   86878.954735   1  31.732105   \n",
       "3          4       A1 2004-01-25        FOOD  269175.011875   1  31.732105   \n",
       "4          5       A1 2005-01-17      CAMERA    3406.639477   1  31.732105   \n",
       "...      ...      ...        ...         ...            ...  ..        ...   \n",
       "1495    1496      A67 2006-02-04  BUS TICKET  418316.710886  67  28.540941   \n",
       "1496    1497      A68 2006-03-25  BUS TICKET   50000.000000  68  29.983443   \n",
       "1497    1498      A69 2006-03-31  BUS TICKET    5000.000000  69  23.187436   \n",
       "1498    1499      A70 2006-03-23  BUS TICKET    5000.500000  70  65.625571   \n",
       "1499    1500      A71 2006-03-24  BUS TICKET    5001.000000  71  77.412181   \n",
       "\n",
       "            City   Product   Limit Company        Segment  \n",
       "0      BANGALORE      Gold  500000      C1  Self Employed  \n",
       "1      BANGALORE      Gold  500000      C1  Self Employed  \n",
       "2      BANGALORE      Gold  500000      C1  Self Employed  \n",
       "3      BANGALORE      Gold  500000      C1  Self Employed  \n",
       "4      BANGALORE      Gold  500000      C1  Self Employed  \n",
       "...          ...       ...     ...     ...            ...  \n",
       "1495     CHENNAI      Gold  500000     C29  Normal Salary  \n",
       "1496  TRIVANDRUM    Silver  100000     C30  Self Employed  \n",
       "1497    CALCUTTA  Platimum   10000     C31  Self Employed  \n",
       "1498      BOMBAY  Platimum   10001     C32  Self Employed  \n",
       "1499      BOMBAY  Platimum   10002     C33  Self Employed  \n",
       "\n",
       "[1500 rows x 12 columns]"
      ]
     },
     "execution_count": 64,
     "metadata": {},
     "output_type": "execute_result"
    }
   ],
   "source": [
    "semi_final_data['Amount'] = pd.Series(np.where(semi_final_data.Amount > semi_final_data.Limit,semi_final_data.Limit/2,semi_final_data.Amount))\n",
    "semi_final_data"
   ]
  },
  {
   "cell_type": "markdown",
   "id": "42ea1833",
   "metadata": {},
   "source": [
    "### c. Incase the repayment amount is more than the limit, replace the repayment with the limit."
   ]
  },
  {
   "cell_type": "code",
   "execution_count": 65,
   "id": "846f33ea",
   "metadata": {},
   "outputs": [],
   "source": [
    "final_data['Amount_Repayment'] = pd.Series(np.where(final_data.Amount_Repayment > final_data.Limit,final_data.Limit,final_data.Amount_Repayment))"
   ]
  },
  {
   "cell_type": "markdown",
   "id": "007e03a5",
   "metadata": {},
   "source": [
    "## 2. From the above dataset create the following summaries:"
   ]
  },
  {
   "cell_type": "markdown",
   "id": "5e98bebc",
   "metadata": {},
   "source": [
    "### a. How many distinct customers exist?"
   ]
  },
  {
   "cell_type": "code",
   "execution_count": 66,
   "id": "c82c865c",
   "metadata": {},
   "outputs": [
    {
     "data": {
      "text/html": [
       "<div>\n",
       "<style scoped>\n",
       "    .dataframe tbody tr th:only-of-type {\n",
       "        vertical-align: middle;\n",
       "    }\n",
       "\n",
       "    .dataframe tbody tr th {\n",
       "        vertical-align: top;\n",
       "    }\n",
       "\n",
       "    .dataframe thead th {\n",
       "        text-align: right;\n",
       "    }\n",
       "</style>\n",
       "<table border=\"1\" class=\"dataframe\">\n",
       "  <thead>\n",
       "    <tr style=\"text-align: right;\">\n",
       "      <th></th>\n",
       "      <th>Sl No:</th>\n",
       "      <th>Customer</th>\n",
       "      <th>Month_Spend</th>\n",
       "      <th>Type</th>\n",
       "      <th>Amount_Spend</th>\n",
       "      <th>No</th>\n",
       "      <th>Age</th>\n",
       "      <th>City</th>\n",
       "      <th>Product</th>\n",
       "      <th>Limit</th>\n",
       "      <th>Company</th>\n",
       "      <th>Segment</th>\n",
       "      <th>SL No:</th>\n",
       "      <th>Month_Repayment</th>\n",
       "      <th>Amount_Repayment</th>\n",
       "    </tr>\n",
       "  </thead>\n",
       "  <tbody>\n",
       "    <tr>\n",
       "      <th>0</th>\n",
       "      <td>1</td>\n",
       "      <td>A1</td>\n",
       "      <td>2004-01-12</td>\n",
       "      <td>JEWELLERY</td>\n",
       "      <td>344054.980813</td>\n",
       "      <td>1</td>\n",
       "      <td>31.732105</td>\n",
       "      <td>BANGALORE</td>\n",
       "      <td>Gold</td>\n",
       "      <td>500000</td>\n",
       "      <td>C1</td>\n",
       "      <td>Self Employed</td>\n",
       "      <td>1</td>\n",
       "      <td>2004-01-12</td>\n",
       "      <td>338932.141919</td>\n",
       "    </tr>\n",
       "    <tr>\n",
       "      <th>7</th>\n",
       "      <td>8</td>\n",
       "      <td>A8</td>\n",
       "      <td>2004-02-05</td>\n",
       "      <td>BIKE</td>\n",
       "      <td>222235.993936</td>\n",
       "      <td>8</td>\n",
       "      <td>44.173800</td>\n",
       "      <td>PATNA</td>\n",
       "      <td>Silver</td>\n",
       "      <td>100002</td>\n",
       "      <td>C8</td>\n",
       "      <td>Salaried_Pvt</td>\n",
       "      <td>8</td>\n",
       "      <td>2004-02-05</td>\n",
       "      <td>100002.000000</td>\n",
       "    </tr>\n",
       "    <tr>\n",
       "      <th>8</th>\n",
       "      <td>9</td>\n",
       "      <td>A9</td>\n",
       "      <td>2005-02-28</td>\n",
       "      <td>AUTO</td>\n",
       "      <td>205127.443506</td>\n",
       "      <td>9</td>\n",
       "      <td>54.899899</td>\n",
       "      <td>CHENNAI</td>\n",
       "      <td>Silver</td>\n",
       "      <td>100003</td>\n",
       "      <td>C9</td>\n",
       "      <td>Govt</td>\n",
       "      <td>9</td>\n",
       "      <td>2005-02-28</td>\n",
       "      <td>100003.000000</td>\n",
       "    </tr>\n",
       "    <tr>\n",
       "      <th>9</th>\n",
       "      <td>10</td>\n",
       "      <td>A10</td>\n",
       "      <td>2005-02-16</td>\n",
       "      <td>SHOPPING</td>\n",
       "      <td>247718.147089</td>\n",
       "      <td>10</td>\n",
       "      <td>16.125533</td>\n",
       "      <td>CALCUTTA</td>\n",
       "      <td>Gold</td>\n",
       "      <td>500000</td>\n",
       "      <td>C10</td>\n",
       "      <td>Normal Salary</td>\n",
       "      <td>10</td>\n",
       "      <td>2005-02-16</td>\n",
       "      <td>210273.388982</td>\n",
       "    </tr>\n",
       "    <tr>\n",
       "      <th>10</th>\n",
       "      <td>11</td>\n",
       "      <td>A11</td>\n",
       "      <td>2005-02-23</td>\n",
       "      <td>AIR TICKET</td>\n",
       "      <td>195424.058828</td>\n",
       "      <td>11</td>\n",
       "      <td>38.859683</td>\n",
       "      <td>COCHIN</td>\n",
       "      <td>Gold</td>\n",
       "      <td>500000</td>\n",
       "      <td>C11</td>\n",
       "      <td>Normal Salary</td>\n",
       "      <td>11</td>\n",
       "      <td>2005-02-23</td>\n",
       "      <td>223511.547743</td>\n",
       "    </tr>\n",
       "    <tr>\n",
       "      <th>...</th>\n",
       "      <td>...</td>\n",
       "      <td>...</td>\n",
       "      <td>...</td>\n",
       "      <td>...</td>\n",
       "      <td>...</td>\n",
       "      <td>...</td>\n",
       "      <td>...</td>\n",
       "      <td>...</td>\n",
       "      <td>...</td>\n",
       "      <td>...</td>\n",
       "      <td>...</td>\n",
       "      <td>...</td>\n",
       "      <td>...</td>\n",
       "      <td>...</td>\n",
       "      <td>...</td>\n",
       "    </tr>\n",
       "    <tr>\n",
       "      <th>104</th>\n",
       "      <td>105</td>\n",
       "      <td>A3</td>\n",
       "      <td>2004-01-15</td>\n",
       "      <td>MOVIE TICKET</td>\n",
       "      <td>96654.230207</td>\n",
       "      <td>3</td>\n",
       "      <td>54.589008</td>\n",
       "      <td>COCHIN</td>\n",
       "      <td>Platimum</td>\n",
       "      <td>10000</td>\n",
       "      <td>C3</td>\n",
       "      <td>Salaried_Pvt</td>\n",
       "      <td>105</td>\n",
       "      <td>2004-01-15</td>\n",
       "      <td>10000.000000</td>\n",
       "    </tr>\n",
       "    <tr>\n",
       "      <th>105</th>\n",
       "      <td>106</td>\n",
       "      <td>A4</td>\n",
       "      <td>2004-01-25</td>\n",
       "      <td>JEWELLERY</td>\n",
       "      <td>403905.864530</td>\n",
       "      <td>4</td>\n",
       "      <td>79.880295</td>\n",
       "      <td>BOMBAY</td>\n",
       "      <td>Platimum</td>\n",
       "      <td>10001</td>\n",
       "      <td>C4</td>\n",
       "      <td>Govt</td>\n",
       "      <td>106</td>\n",
       "      <td>2004-01-25</td>\n",
       "      <td>10001.000000</td>\n",
       "    </tr>\n",
       "    <tr>\n",
       "      <th>106</th>\n",
       "      <td>107</td>\n",
       "      <td>A5</td>\n",
       "      <td>2004-01-12</td>\n",
       "      <td>PETRO</td>\n",
       "      <td>205734.465104</td>\n",
       "      <td>5</td>\n",
       "      <td>29.957442</td>\n",
       "      <td>BANGALORE</td>\n",
       "      <td>Platimum</td>\n",
       "      <td>10002</td>\n",
       "      <td>C5</td>\n",
       "      <td>Normal Salary</td>\n",
       "      <td>107</td>\n",
       "      <td>2004-01-12</td>\n",
       "      <td>10002.000000</td>\n",
       "    </tr>\n",
       "    <tr>\n",
       "      <th>107</th>\n",
       "      <td>108</td>\n",
       "      <td>A6</td>\n",
       "      <td>2004-01-03</td>\n",
       "      <td>CLOTHES</td>\n",
       "      <td>89133.397644</td>\n",
       "      <td>6</td>\n",
       "      <td>27.973516</td>\n",
       "      <td>DELHI</td>\n",
       "      <td>Silver</td>\n",
       "      <td>100000</td>\n",
       "      <td>C6</td>\n",
       "      <td>Self Employed</td>\n",
       "      <td>108</td>\n",
       "      <td>2004-01-03</td>\n",
       "      <td>100000.000000</td>\n",
       "    </tr>\n",
       "    <tr>\n",
       "      <th>108</th>\n",
       "      <td>109</td>\n",
       "      <td>A7</td>\n",
       "      <td>2004-01-15</td>\n",
       "      <td>FOOD</td>\n",
       "      <td>436774.310788</td>\n",
       "      <td>7</td>\n",
       "      <td>9.305896</td>\n",
       "      <td>COCHIN</td>\n",
       "      <td>Silver</td>\n",
       "      <td>100001</td>\n",
       "      <td>C7</td>\n",
       "      <td>Salaried_MNC</td>\n",
       "      <td>109</td>\n",
       "      <td>2004-01-15</td>\n",
       "      <td>100001.000000</td>\n",
       "    </tr>\n",
       "  </tbody>\n",
       "</table>\n",
       "<p>100 rows × 15 columns</p>\n",
       "</div>"
      ],
      "text/plain": [
       "     Sl No: Customer Month_Spend          Type   Amount_Spend  No        Age  \\\n",
       "0         1       A1  2004-01-12     JEWELLERY  344054.980813   1  31.732105   \n",
       "7         8       A8  2004-02-05          BIKE  222235.993936   8  44.173800   \n",
       "8         9       A9  2005-02-28          AUTO  205127.443506   9  54.899899   \n",
       "9        10      A10  2005-02-16      SHOPPING  247718.147089  10  16.125533   \n",
       "10       11      A11  2005-02-23    AIR TICKET  195424.058828  11  38.859683   \n",
       "..      ...      ...         ...           ...            ...  ..        ...   \n",
       "104     105       A3  2004-01-15  MOVIE TICKET   96654.230207   3  54.589008   \n",
       "105     106       A4  2004-01-25     JEWELLERY  403905.864530   4  79.880295   \n",
       "106     107       A5  2004-01-12         PETRO  205734.465104   5  29.957442   \n",
       "107     108       A6  2004-01-03       CLOTHES   89133.397644   6  27.973516   \n",
       "108     109       A7  2004-01-15          FOOD  436774.310788   7   9.305896   \n",
       "\n",
       "          City   Product   Limit Company        Segment  SL No:  \\\n",
       "0    BANGALORE      Gold  500000      C1  Self Employed       1   \n",
       "7        PATNA    Silver  100002      C8   Salaried_Pvt       8   \n",
       "8      CHENNAI    Silver  100003      C9           Govt       9   \n",
       "9     CALCUTTA      Gold  500000     C10  Normal Salary      10   \n",
       "10      COCHIN      Gold  500000     C11  Normal Salary      11   \n",
       "..         ...       ...     ...     ...            ...     ...   \n",
       "104     COCHIN  Platimum   10000      C3   Salaried_Pvt     105   \n",
       "105     BOMBAY  Platimum   10001      C4           Govt     106   \n",
       "106  BANGALORE  Platimum   10002      C5  Normal Salary     107   \n",
       "107      DELHI    Silver  100000      C6  Self Employed     108   \n",
       "108     COCHIN    Silver  100001      C7   Salaried_MNC     109   \n",
       "\n",
       "    Month_Repayment  Amount_Repayment  \n",
       "0        2004-01-12     338932.141919  \n",
       "7        2004-02-05     100002.000000  \n",
       "8        2005-02-28     100003.000000  \n",
       "9        2005-02-16     210273.388982  \n",
       "10       2005-02-23     223511.547743  \n",
       "..              ...               ...  \n",
       "104      2004-01-15      10000.000000  \n",
       "105      2004-01-25      10001.000000  \n",
       "106      2004-01-12      10002.000000  \n",
       "107      2004-01-03     100000.000000  \n",
       "108      2004-01-15     100001.000000  \n",
       "\n",
       "[100 rows x 15 columns]"
      ]
     },
     "execution_count": 66,
     "metadata": {},
     "output_type": "execute_result"
    }
   ],
   "source": [
    "final_data.drop_duplicates(subset = ['Customer'],keep = 'first')"
   ]
  },
  {
   "cell_type": "code",
   "execution_count": 67,
   "id": "91c32efa",
   "metadata": {},
   "outputs": [
    {
     "name": "stdout",
     "output_type": "stream",
     "text": [
      "100 distinct customers are available in the data\n"
     ]
    }
   ],
   "source": [
    "a = final_data.drop_duplicates(subset = ['Customer'],keep = 'first').shape[0]\n",
    "print(f\"{a} distinct customers are available in the data\")"
   ]
  },
  {
   "cell_type": "markdown",
   "id": "3a12a100",
   "metadata": {},
   "source": [
    "### b. How many distinct categories exist?"
   ]
  },
  {
   "cell_type": "code",
   "execution_count": 68,
   "id": "0be398eb",
   "metadata": {},
   "outputs": [
    {
     "name": "stdout",
     "output_type": "stream",
     "text": [
      "5 distinct customers are available in the data\n"
     ]
    }
   ],
   "source": [
    "d_cat = final_data.drop_duplicates(subset = ['Segment'],keep= 'first').shape[0]\n",
    "print(f\"{d_cat} distinct customers are available in the data\")"
   ]
  },
  {
   "cell_type": "markdown",
   "id": "e22d1536",
   "metadata": {},
   "source": [
    "### c. What is the average monthly spend by customers?"
   ]
  },
  {
   "cell_type": "markdown",
   "id": "628da347",
   "metadata": {},
   "source": [
    "First Method : \n",
    "    step 1 : Am creating two new columns Months and Years\n",
    "    step 2 : Create a pivot table using above two columns and calculate the mean of spend Amount"
   ]
  },
  {
   "cell_type": "code",
   "execution_count": 69,
   "id": "18cb02d7",
   "metadata": {},
   "outputs": [],
   "source": [
    "spend['Months'] = spend.Month.dt.strftime(\"%B\")"
   ]
  },
  {
   "cell_type": "code",
   "execution_count": 70,
   "id": "96c92b80",
   "metadata": {},
   "outputs": [],
   "source": [
    "spend['Years'] = spend.Month.dt.strftime(\"%Y\")"
   ]
  },
  {
   "cell_type": "code",
   "execution_count": 75,
   "id": "172741de",
   "metadata": {},
   "outputs": [],
   "source": [
    "monthly_avg_spend_data  = spend.pivot_table(index = ['Customer','Months'],values = 'Amount',aggfunc='mean').reset_index()"
   ]
  },
  {
   "cell_type": "code",
   "execution_count": 76,
   "id": "50edfd11",
   "metadata": {},
   "outputs": [
    {
     "data": {
      "text/html": [
       "<div>\n",
       "<style scoped>\n",
       "    .dataframe tbody tr th:only-of-type {\n",
       "        vertical-align: middle;\n",
       "    }\n",
       "\n",
       "    .dataframe tbody tr th {\n",
       "        vertical-align: top;\n",
       "    }\n",
       "\n",
       "    .dataframe thead th {\n",
       "        text-align: right;\n",
       "    }\n",
       "</style>\n",
       "<table border=\"1\" class=\"dataframe\">\n",
       "  <thead>\n",
       "    <tr style=\"text-align: right;\">\n",
       "      <th></th>\n",
       "      <th>Customer</th>\n",
       "      <th>Months</th>\n",
       "      <th>Amount</th>\n",
       "    </tr>\n",
       "  </thead>\n",
       "  <tbody>\n",
       "    <tr>\n",
       "      <th>0</th>\n",
       "      <td>A1</td>\n",
       "      <td>April</td>\n",
       "      <td>459842.299566</td>\n",
       "    </tr>\n",
       "    <tr>\n",
       "      <th>1</th>\n",
       "      <td>A1</td>\n",
       "      <td>August</td>\n",
       "      <td>305194.318975</td>\n",
       "    </tr>\n",
       "    <tr>\n",
       "      <th>2</th>\n",
       "      <td>A1</td>\n",
       "      <td>February</td>\n",
       "      <td>407517.806604</td>\n",
       "    </tr>\n",
       "    <tr>\n",
       "      <th>3</th>\n",
       "      <td>A1</td>\n",
       "      <td>January</td>\n",
       "      <td>246216.555814</td>\n",
       "    </tr>\n",
       "    <tr>\n",
       "      <th>4</th>\n",
       "      <td>A1</td>\n",
       "      <td>May</td>\n",
       "      <td>203037.493821</td>\n",
       "    </tr>\n",
       "    <tr>\n",
       "      <th>...</th>\n",
       "      <td>...</td>\n",
       "      <td>...</td>\n",
       "      <td>...</td>\n",
       "    </tr>\n",
       "    <tr>\n",
       "      <th>573</th>\n",
       "      <td>A95</td>\n",
       "      <td>January</td>\n",
       "      <td>281975.205712</td>\n",
       "    </tr>\n",
       "    <tr>\n",
       "      <th>574</th>\n",
       "      <td>A96</td>\n",
       "      <td>January</td>\n",
       "      <td>94369.178802</td>\n",
       "    </tr>\n",
       "    <tr>\n",
       "      <th>575</th>\n",
       "      <td>A97</td>\n",
       "      <td>January</td>\n",
       "      <td>134404.666159</td>\n",
       "    </tr>\n",
       "    <tr>\n",
       "      <th>576</th>\n",
       "      <td>A98</td>\n",
       "      <td>January</td>\n",
       "      <td>446110.920182</td>\n",
       "    </tr>\n",
       "    <tr>\n",
       "      <th>577</th>\n",
       "      <td>A99</td>\n",
       "      <td>January</td>\n",
       "      <td>108137.195169</td>\n",
       "    </tr>\n",
       "  </tbody>\n",
       "</table>\n",
       "<p>578 rows × 3 columns</p>\n",
       "</div>"
      ],
      "text/plain": [
       "    Customer    Months         Amount\n",
       "0         A1     April  459842.299566\n",
       "1         A1    August  305194.318975\n",
       "2         A1  February  407517.806604\n",
       "3         A1   January  246216.555814\n",
       "4         A1       May  203037.493821\n",
       "..       ...       ...            ...\n",
       "573      A95   January  281975.205712\n",
       "574      A96   January   94369.178802\n",
       "575      A97   January  134404.666159\n",
       "576      A98   January  446110.920182\n",
       "577      A99   January  108137.195169\n",
       "\n",
       "[578 rows x 3 columns]"
      ]
     },
     "execution_count": 76,
     "metadata": {},
     "output_type": "execute_result"
    }
   ],
   "source": [
    "monthly_avg_spend_data "
   ]
  },
  {
   "cell_type": "markdown",
   "id": "1c9392d7",
   "metadata": {},
   "source": [
    "## d. What is the average monthly repayment by customers?"
   ]
  },
  {
   "cell_type": "code",
   "execution_count": 77,
   "id": "e363be5d",
   "metadata": {},
   "outputs": [],
   "source": [
    "repayment['Months'] = repayment.Month.dt.strftime(\"%B\")"
   ]
  },
  {
   "cell_type": "code",
   "execution_count": 78,
   "id": "f59801fc",
   "metadata": {},
   "outputs": [],
   "source": [
    "repayment['Years'] = repayment.Month.dt.strftime(\"%Y\")"
   ]
  },
  {
   "cell_type": "code",
   "execution_count": 80,
   "id": "a2ef598b",
   "metadata": {},
   "outputs": [],
   "source": [
    "monthly_avg_repayment_data  = repayment.pivot_table(index = ['Customer','Months'],values = 'Amount',aggfunc='mean').reset_index()"
   ]
  },
  {
   "cell_type": "code",
   "execution_count": 81,
   "id": "98b22397",
   "metadata": {},
   "outputs": [
    {
     "data": {
      "text/html": [
       "<div>\n",
       "<style scoped>\n",
       "    .dataframe tbody tr th:only-of-type {\n",
       "        vertical-align: middle;\n",
       "    }\n",
       "\n",
       "    .dataframe tbody tr th {\n",
       "        vertical-align: top;\n",
       "    }\n",
       "\n",
       "    .dataframe thead th {\n",
       "        text-align: right;\n",
       "    }\n",
       "</style>\n",
       "<table border=\"1\" class=\"dataframe\">\n",
       "  <thead>\n",
       "    <tr style=\"text-align: right;\">\n",
       "      <th></th>\n",
       "      <th>Customer</th>\n",
       "      <th>Months</th>\n",
       "      <th>Amount</th>\n",
       "    </tr>\n",
       "  </thead>\n",
       "  <tbody>\n",
       "    <tr>\n",
       "      <th>0</th>\n",
       "      <td>A1</td>\n",
       "      <td>April</td>\n",
       "      <td>341465.776049</td>\n",
       "    </tr>\n",
       "    <tr>\n",
       "      <th>1</th>\n",
       "      <td>A1</td>\n",
       "      <td>February</td>\n",
       "      <td>181723.003932</td>\n",
       "    </tr>\n",
       "    <tr>\n",
       "      <th>2</th>\n",
       "      <td>A1</td>\n",
       "      <td>January</td>\n",
       "      <td>277759.921338</td>\n",
       "    </tr>\n",
       "    <tr>\n",
       "      <th>3</th>\n",
       "      <td>A1</td>\n",
       "      <td>July</td>\n",
       "      <td>149833.583362</td>\n",
       "    </tr>\n",
       "    <tr>\n",
       "      <th>4</th>\n",
       "      <td>A1</td>\n",
       "      <td>November</td>\n",
       "      <td>421565.062460</td>\n",
       "    </tr>\n",
       "    <tr>\n",
       "      <th>...</th>\n",
       "      <td>...</td>\n",
       "      <td>...</td>\n",
       "      <td>...</td>\n",
       "    </tr>\n",
       "    <tr>\n",
       "      <th>553</th>\n",
       "      <td>A95</td>\n",
       "      <td>January</td>\n",
       "      <td>381370.442582</td>\n",
       "    </tr>\n",
       "    <tr>\n",
       "      <th>554</th>\n",
       "      <td>A96</td>\n",
       "      <td>January</td>\n",
       "      <td>462073.813332</td>\n",
       "    </tr>\n",
       "    <tr>\n",
       "      <th>555</th>\n",
       "      <td>A97</td>\n",
       "      <td>January</td>\n",
       "      <td>269952.597005</td>\n",
       "    </tr>\n",
       "    <tr>\n",
       "      <th>556</th>\n",
       "      <td>A98</td>\n",
       "      <td>January</td>\n",
       "      <td>486616.462801</td>\n",
       "    </tr>\n",
       "    <tr>\n",
       "      <th>557</th>\n",
       "      <td>A99</td>\n",
       "      <td>January</td>\n",
       "      <td>259682.427631</td>\n",
       "    </tr>\n",
       "  </tbody>\n",
       "</table>\n",
       "<p>558 rows × 3 columns</p>\n",
       "</div>"
      ],
      "text/plain": [
       "    Customer    Months         Amount\n",
       "0         A1     April  341465.776049\n",
       "1         A1  February  181723.003932\n",
       "2         A1   January  277759.921338\n",
       "3         A1      July  149833.583362\n",
       "4         A1  November  421565.062460\n",
       "..       ...       ...            ...\n",
       "553      A95   January  381370.442582\n",
       "554      A96   January  462073.813332\n",
       "555      A97   January  269952.597005\n",
       "556      A98   January  486616.462801\n",
       "557      A99   January  259682.427631\n",
       "\n",
       "[558 rows x 3 columns]"
      ]
     },
     "execution_count": 81,
     "metadata": {},
     "output_type": "execute_result"
    }
   ],
   "source": [
    "monthly_avg_repayment_data "
   ]
  },
  {
   "cell_type": "markdown",
   "id": "7624fe8a",
   "metadata": {},
   "source": [
    "## e. If the monthly rate of interest is 2.9%, what is the profit for the bank for each month? \n",
    "(Profit is defined as interest earned on Monthly Profit. \n",
    " Monthly Profit = Monthly repayment – Monthly spend. Interest is earned only on positive profits and not on negative amounts)\n"
   ]
  },
  {
   "cell_type": "code",
   "execution_count": 83,
   "id": "052bb850",
   "metadata": {},
   "outputs": [],
   "source": [
    "final_data['Months'] = final_data.Month_Repayment.dt.strftime(\"%B\")"
   ]
  },
  {
   "cell_type": "code",
   "execution_count": 84,
   "id": "84474013",
   "metadata": {},
   "outputs": [],
   "source": [
    "final_data['Years'] = final_data.Month_Repayment.dt.strftime(\"%Y\")"
   ]
  },
  {
   "cell_type": "code",
   "execution_count": 144,
   "id": "1e4b1364",
   "metadata": {},
   "outputs": [],
   "source": [
    "interest_rate_data = final_data.pivot_table(index = ['Customer','Months'],values = ['Amount_Repayment','Amount_Spend'],aggfunc= sum)"
   ]
  },
  {
   "cell_type": "code",
   "execution_count": 145,
   "id": "4ea29c43",
   "metadata": {},
   "outputs": [],
   "source": [
    "interest_rate_data['Profit'] = interest_rate_data.Amount_Repayment - interest_rate_data.Amount_Spend"
   ]
  },
  {
   "cell_type": "code",
   "execution_count": 146,
   "id": "4b6af558",
   "metadata": {},
   "outputs": [],
   "source": [
    "interest_rate_data['Interest Earned'] = (2.9* interest_rate_data['Profit'])/100"
   ]
  },
  {
   "cell_type": "code",
   "execution_count": 147,
   "id": "b231b637",
   "metadata": {},
   "outputs": [],
   "source": [
    "interest_rate_data.reset_index(inplace = True)"
   ]
  },
  {
   "cell_type": "code",
   "execution_count": 148,
   "id": "f06b3045",
   "metadata": {},
   "outputs": [
    {
     "data": {
      "text/html": [
       "<div>\n",
       "<style scoped>\n",
       "    .dataframe tbody tr th:only-of-type {\n",
       "        vertical-align: middle;\n",
       "    }\n",
       "\n",
       "    .dataframe tbody tr th {\n",
       "        vertical-align: top;\n",
       "    }\n",
       "\n",
       "    .dataframe thead th {\n",
       "        text-align: right;\n",
       "    }\n",
       "</style>\n",
       "<table border=\"1\" class=\"dataframe\">\n",
       "  <thead>\n",
       "    <tr style=\"text-align: right;\">\n",
       "      <th></th>\n",
       "      <th>Customer</th>\n",
       "      <th>Months</th>\n",
       "      <th>Amount_Repayment</th>\n",
       "      <th>Amount_Spend</th>\n",
       "      <th>Profit</th>\n",
       "      <th>Interest Earned</th>\n",
       "    </tr>\n",
       "  </thead>\n",
       "  <tbody>\n",
       "    <tr>\n",
       "      <th>0</th>\n",
       "      <td>A1</td>\n",
       "      <td>April</td>\n",
       "      <td>682931.552098</td>\n",
       "      <td>577709.988118</td>\n",
       "      <td>105221.563980</td>\n",
       "      <td>3051.425355</td>\n",
       "    </tr>\n",
       "    <tr>\n",
       "      <th>3</th>\n",
       "      <td>A1</td>\n",
       "      <td>July</td>\n",
       "      <td>149833.583362</td>\n",
       "      <td>81814.562390</td>\n",
       "      <td>68019.020972</td>\n",
       "      <td>1972.551608</td>\n",
       "    </tr>\n",
       "    <tr>\n",
       "      <th>4</th>\n",
       "      <td>A1</td>\n",
       "      <td>November</td>\n",
       "      <td>843130.124920</td>\n",
       "      <td>464622.717559</td>\n",
       "      <td>378507.407361</td>\n",
       "      <td>10976.714813</td>\n",
       "    </tr>\n",
       "    <tr>\n",
       "      <th>5</th>\n",
       "      <td>A1</td>\n",
       "      <td>September</td>\n",
       "      <td>341741.505563</td>\n",
       "      <td>289737.525235</td>\n",
       "      <td>52003.980328</td>\n",
       "      <td>1508.115430</td>\n",
       "    </tr>\n",
       "    <tr>\n",
       "      <th>6</th>\n",
       "      <td>A10</td>\n",
       "      <td>April</td>\n",
       "      <td>630349.283842</td>\n",
       "      <td>445010.758482</td>\n",
       "      <td>185338.525360</td>\n",
       "      <td>5374.817235</td>\n",
       "    </tr>\n",
       "    <tr>\n",
       "      <th>...</th>\n",
       "      <td>...</td>\n",
       "      <td>...</td>\n",
       "      <td>...</td>\n",
       "      <td>...</td>\n",
       "      <td>...</td>\n",
       "      <td>...</td>\n",
       "    </tr>\n",
       "    <tr>\n",
       "      <th>549</th>\n",
       "      <td>A91</td>\n",
       "      <td>April</td>\n",
       "      <td>471238.530147</td>\n",
       "      <td>407569.703098</td>\n",
       "      <td>63668.827049</td>\n",
       "      <td>1846.395984</td>\n",
       "    </tr>\n",
       "    <tr>\n",
       "      <th>551</th>\n",
       "      <td>A93</td>\n",
       "      <td>January</td>\n",
       "      <td>491626.294677</td>\n",
       "      <td>164093.690713</td>\n",
       "      <td>327532.603964</td>\n",
       "      <td>9498.445515</td>\n",
       "    </tr>\n",
       "    <tr>\n",
       "      <th>552</th>\n",
       "      <td>A94</td>\n",
       "      <td>January</td>\n",
       "      <td>388682.581736</td>\n",
       "      <td>38195.254289</td>\n",
       "      <td>350487.327448</td>\n",
       "      <td>10164.132496</td>\n",
       "    </tr>\n",
       "    <tr>\n",
       "      <th>553</th>\n",
       "      <td>A95</td>\n",
       "      <td>January</td>\n",
       "      <td>381370.442582</td>\n",
       "      <td>281975.205712</td>\n",
       "      <td>99395.236870</td>\n",
       "      <td>2882.461869</td>\n",
       "    </tr>\n",
       "    <tr>\n",
       "      <th>554</th>\n",
       "      <td>A96</td>\n",
       "      <td>January</td>\n",
       "      <td>100000.000000</td>\n",
       "      <td>94369.178802</td>\n",
       "      <td>5630.821198</td>\n",
       "      <td>163.293815</td>\n",
       "    </tr>\n",
       "  </tbody>\n",
       "</table>\n",
       "<p>166 rows × 6 columns</p>\n",
       "</div>"
      ],
      "text/plain": [
       "    Customer     Months  Amount_Repayment   Amount_Spend         Profit  \\\n",
       "0         A1      April     682931.552098  577709.988118  105221.563980   \n",
       "3         A1       July     149833.583362   81814.562390   68019.020972   \n",
       "4         A1   November     843130.124920  464622.717559  378507.407361   \n",
       "5         A1  September     341741.505563  289737.525235   52003.980328   \n",
       "6        A10      April     630349.283842  445010.758482  185338.525360   \n",
       "..       ...        ...               ...            ...            ...   \n",
       "549      A91      April     471238.530147  407569.703098   63668.827049   \n",
       "551      A93    January     491626.294677  164093.690713  327532.603964   \n",
       "552      A94    January     388682.581736   38195.254289  350487.327448   \n",
       "553      A95    January     381370.442582  281975.205712   99395.236870   \n",
       "554      A96    January     100000.000000   94369.178802    5630.821198   \n",
       "\n",
       "     Interest Earned  \n",
       "0        3051.425355  \n",
       "3        1972.551608  \n",
       "4       10976.714813  \n",
       "5        1508.115430  \n",
       "6        5374.817235  \n",
       "..               ...  \n",
       "549      1846.395984  \n",
       "551      9498.445515  \n",
       "552     10164.132496  \n",
       "553      2882.461869  \n",
       "554       163.293815  \n",
       "\n",
       "[166 rows x 6 columns]"
      ]
     },
     "execution_count": 148,
     "metadata": {},
     "output_type": "execute_result"
    }
   ],
   "source": [
    "interest_rate_data[interest_rate_data.Profit > 0]"
   ]
  },
  {
   "cell_type": "markdown",
   "id": "41c011d8",
   "metadata": {},
   "source": [
    "### f. What are the top 5 product types?"
   ]
  },
  {
   "cell_type": "code",
   "execution_count": 90,
   "id": "3ce3e116",
   "metadata": {},
   "outputs": [
    {
     "data": {
      "text/html": [
       "<div>\n",
       "<style scoped>\n",
       "    .dataframe tbody tr th:only-of-type {\n",
       "        vertical-align: middle;\n",
       "    }\n",
       "\n",
       "    .dataframe tbody tr th {\n",
       "        vertical-align: top;\n",
       "    }\n",
       "\n",
       "    .dataframe thead th {\n",
       "        text-align: right;\n",
       "    }\n",
       "</style>\n",
       "<table border=\"1\" class=\"dataframe\">\n",
       "  <thead>\n",
       "    <tr style=\"text-align: right;\">\n",
       "      <th></th>\n",
       "      <th>Type</th>\n",
       "      <th>Amount</th>\n",
       "    </tr>\n",
       "  </thead>\n",
       "  <tbody>\n",
       "    <tr>\n",
       "      <th>10</th>\n",
       "      <td>PETRO</td>\n",
       "      <td>5.296209e+07</td>\n",
       "    </tr>\n",
       "    <tr>\n",
       "      <th>4</th>\n",
       "      <td>CAMERA</td>\n",
       "      <td>4.271814e+07</td>\n",
       "    </tr>\n",
       "    <tr>\n",
       "      <th>7</th>\n",
       "      <td>FOOD</td>\n",
       "      <td>4.131544e+07</td>\n",
       "    </tr>\n",
       "    <tr>\n",
       "      <th>0</th>\n",
       "      <td>AIR TICKET</td>\n",
       "      <td>3.743093e+07</td>\n",
       "    </tr>\n",
       "    <tr>\n",
       "      <th>14</th>\n",
       "      <td>TRAIN TICKET</td>\n",
       "      <td>3.222431e+07</td>\n",
       "    </tr>\n",
       "  </tbody>\n",
       "</table>\n",
       "</div>"
      ],
      "text/plain": [
       "            Type        Amount\n",
       "10         PETRO  5.296209e+07\n",
       "4         CAMERA  4.271814e+07\n",
       "7           FOOD  4.131544e+07\n",
       "0     AIR TICKET  3.743093e+07\n",
       "14  TRAIN TICKET  3.222431e+07"
      ]
     },
     "execution_count": 90,
     "metadata": {},
     "output_type": "execute_result"
    }
   ],
   "source": [
    "# Top 5 product by Amount spend\n",
    "\n",
    "a = spend.pivot_table(index = 'Type',values = 'Amount',aggfunc=sum).reset_index().sort_values(by = 'Amount',ascending = False).head(5)\n",
    "a"
   ]
  },
  {
   "cell_type": "code",
   "execution_count": 91,
   "id": "b3129a46",
   "metadata": {},
   "outputs": [
    {
     "data": {
      "image/png": "[encoded data removed]",
      "text/plain": [
       "<Figure size 432x288 with 1 Axes>"
      ]
     },
     "metadata": {},
     "output_type": "display_data"
    }
   ],
   "source": [
    "sns.barplot(y=a.Type,x=a.Amount)\n",
    "plt.show()"
   ]
  },
  {
   "cell_type": "code",
   "execution_count": 92,
   "id": "2a05237d",
   "metadata": {},
   "outputs": [
    {
     "data": {
      "text/html": [
       "<div>\n",
       "<style scoped>\n",
       "    .dataframe tbody tr th:only-of-type {\n",
       "        vertical-align: middle;\n",
       "    }\n",
       "\n",
       "    .dataframe tbody tr th {\n",
       "        vertical-align: top;\n",
       "    }\n",
       "\n",
       "    .dataframe thead th {\n",
       "        text-align: right;\n",
       "    }\n",
       "</style>\n",
       "<table border=\"1\" class=\"dataframe\">\n",
       "  <thead>\n",
       "    <tr style=\"text-align: right;\">\n",
       "      <th></th>\n",
       "      <th>Type</th>\n",
       "      <th>Customer</th>\n",
       "    </tr>\n",
       "  </thead>\n",
       "  <tbody>\n",
       "    <tr>\n",
       "      <th>10</th>\n",
       "      <td>PETRO</td>\n",
       "      <td>200</td>\n",
       "    </tr>\n",
       "    <tr>\n",
       "      <th>4</th>\n",
       "      <td>CAMERA</td>\n",
       "      <td>160</td>\n",
       "    </tr>\n",
       "    <tr>\n",
       "      <th>7</th>\n",
       "      <td>FOOD</td>\n",
       "      <td>160</td>\n",
       "    </tr>\n",
       "    <tr>\n",
       "      <th>0</th>\n",
       "      <td>AIR TICKET</td>\n",
       "      <td>147</td>\n",
       "    </tr>\n",
       "    <tr>\n",
       "      <th>14</th>\n",
       "      <td>TRAIN TICKET</td>\n",
       "      <td>132</td>\n",
       "    </tr>\n",
       "  </tbody>\n",
       "</table>\n",
       "</div>"
      ],
      "text/plain": [
       "            Type  Customer\n",
       "10         PETRO       200\n",
       "4         CAMERA       160\n",
       "7           FOOD       160\n",
       "0     AIR TICKET       147\n",
       "14  TRAIN TICKET       132"
      ]
     },
     "execution_count": 92,
     "metadata": {},
     "output_type": "execute_result"
    }
   ],
   "source": [
    "# Top 5 Products by count\n",
    "\n",
    "a = spend.pivot_table(index = 'Type',values = 'Customer',aggfunc= 'count').reset_index().sort_values(by = 'Customer',ascending = False).head(5)\n",
    "a"
   ]
  },
  {
   "cell_type": "code",
   "execution_count": 93,
   "id": "2f4a3c66",
   "metadata": {},
   "outputs": [
    {
     "data": {
      "image/png": "[encoded data removed]",
      "text/plain": [
       "<Figure size 432x288 with 1 Axes>"
      ]
     },
     "metadata": {},
     "output_type": "display_data"
    }
   ],
   "source": [
    "sns.barplot(y=a.Type,x=a.Customer)\n",
    "plt.show()"
   ]
  },
  {
   "cell_type": "markdown",
   "id": "82629611",
   "metadata": {},
   "source": [
    "### g. Which city is having maximum spend?"
   ]
  },
  {
   "cell_type": "code",
   "execution_count": 151,
   "id": "481ab188",
   "metadata": {},
   "outputs": [],
   "source": [
    "maxspend_city = semi_final_data.pivot_table(index = 'City',values = 'Amount',aggfunc='max').reset_index().sort_values(by='Amount',ascending = False)\n"
   ]
  },
  {
   "cell_type": "code",
   "execution_count": 152,
   "id": "54e0f2ac",
   "metadata": {},
   "outputs": [
    {
     "data": {
      "text/html": [
       "<div>\n",
       "<style scoped>\n",
       "    .dataframe tbody tr th:only-of-type {\n",
       "        vertical-align: middle;\n",
       "    }\n",
       "\n",
       "    .dataframe tbody tr th {\n",
       "        vertical-align: top;\n",
       "    }\n",
       "\n",
       "    .dataframe thead th {\n",
       "        text-align: right;\n",
       "    }\n",
       "</style>\n",
       "<table border=\"1\" class=\"dataframe\">\n",
       "  <thead>\n",
       "    <tr style=\"text-align: right;\">\n",
       "      <th></th>\n",
       "      <th>City</th>\n",
       "      <th>Amount</th>\n",
       "    </tr>\n",
       "  </thead>\n",
       "  <tbody>\n",
       "    <tr>\n",
       "      <th>4</th>\n",
       "      <td>COCHIN</td>\n",
       "      <td>499980.650083</td>\n",
       "    </tr>\n",
       "    <tr>\n",
       "      <th>1</th>\n",
       "      <td>BOMBAY</td>\n",
       "      <td>499889.614388</td>\n",
       "    </tr>\n",
       "    <tr>\n",
       "      <th>0</th>\n",
       "      <td>BANGALORE</td>\n",
       "      <td>499462.120788</td>\n",
       "    </tr>\n",
       "    <tr>\n",
       "      <th>2</th>\n",
       "      <td>CALCUTTA</td>\n",
       "      <td>497630.818904</td>\n",
       "    </tr>\n",
       "    <tr>\n",
       "      <th>5</th>\n",
       "      <td>DELHI</td>\n",
       "      <td>492705.496194</td>\n",
       "    </tr>\n",
       "    <tr>\n",
       "      <th>7</th>\n",
       "      <td>TRIVANDRUM</td>\n",
       "      <td>486154.680235</td>\n",
       "    </tr>\n",
       "    <tr>\n",
       "      <th>3</th>\n",
       "      <td>CHENNAI</td>\n",
       "      <td>483060.007753</td>\n",
       "    </tr>\n",
       "    <tr>\n",
       "      <th>6</th>\n",
       "      <td>PATNA</td>\n",
       "      <td>475309.325528</td>\n",
       "    </tr>\n",
       "  </tbody>\n",
       "</table>\n",
       "</div>"
      ],
      "text/plain": [
       "         City         Amount\n",
       "4      COCHIN  499980.650083\n",
       "1      BOMBAY  499889.614388\n",
       "0   BANGALORE  499462.120788\n",
       "2    CALCUTTA  497630.818904\n",
       "5       DELHI  492705.496194\n",
       "7  TRIVANDRUM  486154.680235\n",
       "3     CHENNAI  483060.007753\n",
       "6       PATNA  475309.325528"
      ]
     },
     "execution_count": 152,
     "metadata": {},
     "output_type": "execute_result"
    }
   ],
   "source": [
    "maxspend_city"
   ]
  },
  {
   "cell_type": "markdown",
   "id": "c773f6c4",
   "metadata": {},
   "source": [
    "### h. Which age group is spending more money? "
   ]
  },
  {
   "cell_type": "code",
   "execution_count": 98,
   "id": "73cc7f2a",
   "metadata": {},
   "outputs": [],
   "source": [
    "#semi_final_data['Age Group'] = pd.cut(semi_final_data.Age,[0,2,16,30,45,100])"
   ]
  },
  {
   "cell_type": "code",
   "execution_count": 164,
   "id": "dca82da9",
   "metadata": {},
   "outputs": [],
   "source": [
    "semi_final_data.loc[(semi_final_data.Age < 18),'Age_Group'] = 'Children'"
   ]
  },
  {
   "cell_type": "code",
   "execution_count": 165,
   "id": "2c2c3f5a",
   "metadata": {},
   "outputs": [],
   "source": [
    "semi_final_data.loc[(semi_final_data.Age >= 18) & (semi_final_data.Age < 30),'Age_Group'] = 'Youth'"
   ]
  },
  {
   "cell_type": "code",
   "execution_count": 166,
   "id": "2f02fdc9",
   "metadata": {},
   "outputs": [],
   "source": [
    "semi_final_data.loc[(semi_final_data.Age >= 30) & (semi_final_data.Age < 60),'Age_Group'] = 'Adult'"
   ]
  },
  {
   "cell_type": "code",
   "execution_count": 167,
   "id": "63d4f118",
   "metadata": {},
   "outputs": [],
   "source": [
    "semi_final_data.loc[(semi_final_data.Age > 60) ,'Age_Group'] = 'Senior'"
   ]
  },
  {
   "cell_type": "code",
   "execution_count": 168,
   "id": "70e3d69d",
   "metadata": {},
   "outputs": [],
   "source": [
    "age_group_data = semi_final_data.pivot_table(index = 'Age_Group',values = 'Amount',aggfunc= 'sum').reset_index()"
   ]
  },
  {
   "cell_type": "code",
   "execution_count": 169,
   "id": "dc8f0f6a",
   "metadata": {},
   "outputs": [
    {
     "data": {
      "text/html": [
       "<div>\n",
       "<style scoped>\n",
       "    .dataframe tbody tr th:only-of-type {\n",
       "        vertical-align: middle;\n",
       "    }\n",
       "\n",
       "    .dataframe tbody tr th {\n",
       "        vertical-align: top;\n",
       "    }\n",
       "\n",
       "    .dataframe thead th {\n",
       "        text-align: right;\n",
       "    }\n",
       "</style>\n",
       "<table border=\"1\" class=\"dataframe\">\n",
       "  <thead>\n",
       "    <tr style=\"text-align: right;\">\n",
       "      <th></th>\n",
       "      <th>Age_Group</th>\n",
       "      <th>Amount</th>\n",
       "    </tr>\n",
       "  </thead>\n",
       "  <tbody>\n",
       "    <tr>\n",
       "      <th>2</th>\n",
       "      <td>Senior</td>\n",
       "      <td>8.764517e+07</td>\n",
       "    </tr>\n",
       "    <tr>\n",
       "      <th>0</th>\n",
       "      <td>Adult</td>\n",
       "      <td>8.343892e+07</td>\n",
       "    </tr>\n",
       "    <tr>\n",
       "      <th>1</th>\n",
       "      <td>Children</td>\n",
       "      <td>3.425200e+07</td>\n",
       "    </tr>\n",
       "    <tr>\n",
       "      <th>3</th>\n",
       "      <td>Youth</td>\n",
       "      <td>2.339250e+07</td>\n",
       "    </tr>\n",
       "  </tbody>\n",
       "</table>\n",
       "</div>"
      ],
      "text/plain": [
       "  Age_Group        Amount\n",
       "2    Senior  8.764517e+07\n",
       "0     Adult  8.343892e+07\n",
       "1  Children  3.425200e+07\n",
       "3     Youth  2.339250e+07"
      ]
     },
     "execution_count": 169,
     "metadata": {},
     "output_type": "execute_result"
    }
   ],
   "source": [
    "age_group_data.sort_values(by = 'Amount',ascending = False)"
   ]
  },
  {
   "cell_type": "code",
   "execution_count": 177,
   "id": "3a8a4b49",
   "metadata": {},
   "outputs": [
    {
     "data": {
      "image/png": "[encoded data removed]",
      "text/plain": [
       "<Figure size 432x288 with 1 Axes>"
      ]
     },
     "metadata": {},
     "output_type": "display_data"
    }
   ],
   "source": [
    "sns.barplot(data= age_group_data,x='Age_Group',y='Amount')\n",
    "plt.title(\"Age group wise max spend\")\n",
    "plt.show()"
   ]
  },
  {
   "cell_type": "markdown",
   "id": "865912e7",
   "metadata": {},
   "source": [
    "### i. Who are the top 10 customers in terms of repayment?"
   ]
  },
  {
   "cell_type": "code",
   "execution_count": 132,
   "id": "4ad96b2d",
   "metadata": {},
   "outputs": [],
   "source": [
    "top_repayment = repayment.pivot_table(index = 'Customer',values = 'Amount',aggfunc= sum)"
   ]
  },
  {
   "cell_type": "code",
   "execution_count": 172,
   "id": "c2b5a22e",
   "metadata": {},
   "outputs": [],
   "source": [
    "top_rp = top_repayment.reset_index().sort_values(by='Amount',ascending = False).head(10)"
   ]
  },
  {
   "cell_type": "code",
   "execution_count": 173,
   "id": "cfbc763d",
   "metadata": {},
   "outputs": [
    {
     "data": {
      "text/html": [
       "<div>\n",
       "<style scoped>\n",
       "    .dataframe tbody tr th:only-of-type {\n",
       "        vertical-align: middle;\n",
       "    }\n",
       "\n",
       "    .dataframe tbody tr th {\n",
       "        vertical-align: top;\n",
       "    }\n",
       "\n",
       "    .dataframe thead th {\n",
       "        text-align: right;\n",
       "    }\n",
       "</style>\n",
       "<table border=\"1\" class=\"dataframe\">\n",
       "  <thead>\n",
       "    <tr style=\"text-align: right;\">\n",
       "      <th></th>\n",
       "      <th>Customer</th>\n",
       "      <th>Amount</th>\n",
       "    </tr>\n",
       "  </thead>\n",
       "  <tbody>\n",
       "    <tr>\n",
       "      <th>58</th>\n",
       "      <td>A61</td>\n",
       "      <td>9.672794e+06</td>\n",
       "    </tr>\n",
       "    <tr>\n",
       "      <th>57</th>\n",
       "      <td>A60</td>\n",
       "      <td>9.168150e+06</td>\n",
       "    </tr>\n",
       "    <tr>\n",
       "      <th>37</th>\n",
       "      <td>A42</td>\n",
       "      <td>8.928473e+06</td>\n",
       "    </tr>\n",
       "    <tr>\n",
       "      <th>5</th>\n",
       "      <td>A13</td>\n",
       "      <td>8.496396e+06</td>\n",
       "    </tr>\n",
       "    <tr>\n",
       "      <th>15</th>\n",
       "      <td>A22</td>\n",
       "      <td>8.270518e+06</td>\n",
       "    </tr>\n",
       "    <tr>\n",
       "      <th>32</th>\n",
       "      <td>A38</td>\n",
       "      <td>8.205337e+06</td>\n",
       "    </tr>\n",
       "    <tr>\n",
       "      <th>38</th>\n",
       "      <td>A43</td>\n",
       "      <td>7.976031e+06</td>\n",
       "    </tr>\n",
       "    <tr>\n",
       "      <th>35</th>\n",
       "      <td>A40</td>\n",
       "      <td>7.671796e+06</td>\n",
       "    </tr>\n",
       "    <tr>\n",
       "      <th>14</th>\n",
       "      <td>A21</td>\n",
       "      <td>7.666291e+06</td>\n",
       "    </tr>\n",
       "    <tr>\n",
       "      <th>6</th>\n",
       "      <td>A14</td>\n",
       "      <td>7.655255e+06</td>\n",
       "    </tr>\n",
       "  </tbody>\n",
       "</table>\n",
       "</div>"
      ],
      "text/plain": [
       "   Customer        Amount\n",
       "58      A61  9.672794e+06\n",
       "57      A60  9.168150e+06\n",
       "37      A42  8.928473e+06\n",
       "5       A13  8.496396e+06\n",
       "15      A22  8.270518e+06\n",
       "32      A38  8.205337e+06\n",
       "38      A43  7.976031e+06\n",
       "35      A40  7.671796e+06\n",
       "14      A21  7.666291e+06\n",
       "6       A14  7.655255e+06"
      ]
     },
     "execution_count": 173,
     "metadata": {},
     "output_type": "execute_result"
    }
   ],
   "source": [
    "top_rp"
   ]
  },
  {
   "cell_type": "code",
   "execution_count": 178,
   "id": "c03d3db9",
   "metadata": {},
   "outputs": [
    {
     "data": {
      "image/png": "[encoded data removed]",
      "text/plain": [
       "<Figure size 432x288 with 1 Axes>"
      ]
     },
     "metadata": {},
     "output_type": "display_data"
    }
   ],
   "source": [
    "sns.barplot(data= top_rp,x ='Customer',y='Amount' )\n",
    "plt.title('Top 10 customers in terms of repayment')\n",
    "plt.show()"
   ]
  },
  {
   "cell_type": "markdown",
   "id": "25234a48",
   "metadata": {},
   "source": [
    "### 3. Calculate the city wise spend on each product on yearly basis. Also include a graphical representation for the same"
   ]
  },
  {
   "cell_type": "code",
   "execution_count": 114,
   "id": "ffea59f1",
   "metadata": {},
   "outputs": [],
   "source": [
    "semi_final_data['Years'] = semi_final_data.Month.dt.strftime(\"%Y\")"
   ]
  },
  {
   "cell_type": "code",
   "execution_count": 134,
   "id": "b65f3d4e",
   "metadata": {},
   "outputs": [
    {
     "data": {
      "text/html": [
       "<div>\n",
       "<style scoped>\n",
       "    .dataframe tbody tr th:only-of-type {\n",
       "        vertical-align: middle;\n",
       "    }\n",
       "\n",
       "    .dataframe tbody tr th {\n",
       "        vertical-align: top;\n",
       "    }\n",
       "\n",
       "    .dataframe thead tr th {\n",
       "        text-align: left;\n",
       "    }\n",
       "\n",
       "    .dataframe thead tr:last-of-type th {\n",
       "        text-align: right;\n",
       "    }\n",
       "</style>\n",
       "<table border=\"1\" class=\"dataframe\">\n",
       "  <thead>\n",
       "    <tr>\n",
       "      <th>Product</th>\n",
       "      <th colspan=\"3\" halign=\"left\">Gold</th>\n",
       "      <th colspan=\"3\" halign=\"left\">Platimum</th>\n",
       "      <th colspan=\"3\" halign=\"left\">Silver</th>\n",
       "    </tr>\n",
       "    <tr>\n",
       "      <th>Years</th>\n",
       "      <th>2004</th>\n",
       "      <th>2005</th>\n",
       "      <th>2006</th>\n",
       "      <th>2004</th>\n",
       "      <th>2005</th>\n",
       "      <th>2006</th>\n",
       "      <th>2004</th>\n",
       "      <th>2005</th>\n",
       "      <th>2006</th>\n",
       "    </tr>\n",
       "    <tr>\n",
       "      <th>City</th>\n",
       "      <th></th>\n",
       "      <th></th>\n",
       "      <th></th>\n",
       "      <th></th>\n",
       "      <th></th>\n",
       "      <th></th>\n",
       "      <th></th>\n",
       "      <th></th>\n",
       "      <th></th>\n",
       "    </tr>\n",
       "  </thead>\n",
       "  <tbody>\n",
       "    <tr>\n",
       "      <th>BANGALORE</th>\n",
       "      <td>9.870697e+06</td>\n",
       "      <td>1.491447e+07</td>\n",
       "      <td>1.312135e+07</td>\n",
       "      <td>1.045046e+06</td>\n",
       "      <td>8.857226e+05</td>\n",
       "      <td>7.096945e+05</td>\n",
       "      <td>1.215575e+06</td>\n",
       "      <td>909077.886127</td>\n",
       "      <td>1.650719e+06</td>\n",
       "    </tr>\n",
       "    <tr>\n",
       "      <th>BOMBAY</th>\n",
       "      <td>6.221750e+06</td>\n",
       "      <td>9.533804e+06</td>\n",
       "      <td>1.019603e+07</td>\n",
       "      <td>9.469763e+05</td>\n",
       "      <td>8.360085e+05</td>\n",
       "      <td>1.022214e+06</td>\n",
       "      <td>5.186763e+05</td>\n",
       "      <td>572757.221051</td>\n",
       "      <td>8.494748e+05</td>\n",
       "    </tr>\n",
       "    <tr>\n",
       "      <th>CALCUTTA</th>\n",
       "      <td>8.643979e+06</td>\n",
       "      <td>1.169198e+07</td>\n",
       "      <td>9.571088e+06</td>\n",
       "      <td>2.178863e+06</td>\n",
       "      <td>4.822990e+06</td>\n",
       "      <td>2.456412e+06</td>\n",
       "      <td>5.974884e+05</td>\n",
       "      <td>343259.508423</td>\n",
       "      <td>8.761541e+05</td>\n",
       "    </tr>\n",
       "    <tr>\n",
       "      <th>CHENNAI</th>\n",
       "      <td>1.415073e+06</td>\n",
       "      <td>3.013081e+06</td>\n",
       "      <td>3.057966e+06</td>\n",
       "      <td>2.944115e+06</td>\n",
       "      <td>5.243051e+06</td>\n",
       "      <td>6.066896e+06</td>\n",
       "      <td>3.087747e+05</td>\n",
       "      <td>428758.513457</td>\n",
       "      <td>3.133881e+05</td>\n",
       "    </tr>\n",
       "    <tr>\n",
       "      <th>COCHIN</th>\n",
       "      <td>9.730435e+06</td>\n",
       "      <td>1.102531e+07</td>\n",
       "      <td>1.262828e+07</td>\n",
       "      <td>2.974235e+06</td>\n",
       "      <td>4.151463e+06</td>\n",
       "      <td>5.530969e+06</td>\n",
       "      <td>7.891949e+05</td>\n",
       "      <td>643789.217230</td>\n",
       "      <td>1.100866e+06</td>\n",
       "    </tr>\n",
       "    <tr>\n",
       "      <th>DELHI</th>\n",
       "      <td>3.467979e+06</td>\n",
       "      <td>2.508487e+06</td>\n",
       "      <td>3.535700e+06</td>\n",
       "      <td>3.388421e+05</td>\n",
       "      <td>4.436198e+05</td>\n",
       "      <td>1.333650e+05</td>\n",
       "      <td>8.040971e+05</td>\n",
       "      <td>493446.154834</td>\n",
       "      <td>7.607706e+05</td>\n",
       "    </tr>\n",
       "    <tr>\n",
       "      <th>PATNA</th>\n",
       "      <td>1.915473e+06</td>\n",
       "      <td>2.187692e+06</td>\n",
       "      <td>2.424509e+06</td>\n",
       "      <td>8.166373e+05</td>\n",
       "      <td>2.534969e+06</td>\n",
       "      <td>7.453814e+05</td>\n",
       "      <td>8.448295e+05</td>\n",
       "      <td>949455.256917</td>\n",
       "      <td>6.972589e+05</td>\n",
       "    </tr>\n",
       "    <tr>\n",
       "      <th>TRIVANDRUM</th>\n",
       "      <td>2.272700e+06</td>\n",
       "      <td>1.984571e+06</td>\n",
       "      <td>2.827397e+06</td>\n",
       "      <td>1.770528e+06</td>\n",
       "      <td>3.401179e+06</td>\n",
       "      <td>2.122722e+06</td>\n",
       "      <td>2.729088e+05</td>\n",
       "      <td>372614.285714</td>\n",
       "      <td>5.335627e+05</td>\n",
       "    </tr>\n",
       "  </tbody>\n",
       "</table>\n",
       "</div>"
      ],
      "text/plain": [
       "Product             Gold                                  Platimum  \\\n",
       "Years               2004          2005          2006          2004   \n",
       "City                                                                 \n",
       "BANGALORE   9.870697e+06  1.491447e+07  1.312135e+07  1.045046e+06   \n",
       "BOMBAY      6.221750e+06  9.533804e+06  1.019603e+07  9.469763e+05   \n",
       "CALCUTTA    8.643979e+06  1.169198e+07  9.571088e+06  2.178863e+06   \n",
       "CHENNAI     1.415073e+06  3.013081e+06  3.057966e+06  2.944115e+06   \n",
       "COCHIN      9.730435e+06  1.102531e+07  1.262828e+07  2.974235e+06   \n",
       "DELHI       3.467979e+06  2.508487e+06  3.535700e+06  3.388421e+05   \n",
       "PATNA       1.915473e+06  2.187692e+06  2.424509e+06  8.166373e+05   \n",
       "TRIVANDRUM  2.272700e+06  1.984571e+06  2.827397e+06  1.770528e+06   \n",
       "\n",
       "Product                                       Silver                 \\\n",
       "Years               2005          2006          2004           2005   \n",
       "City                                                                  \n",
       "BANGALORE   8.857226e+05  7.096945e+05  1.215575e+06  909077.886127   \n",
       "BOMBAY      8.360085e+05  1.022214e+06  5.186763e+05  572757.221051   \n",
       "CALCUTTA    4.822990e+06  2.456412e+06  5.974884e+05  343259.508423   \n",
       "CHENNAI     5.243051e+06  6.066896e+06  3.087747e+05  428758.513457   \n",
       "COCHIN      4.151463e+06  5.530969e+06  7.891949e+05  643789.217230   \n",
       "DELHI       4.436198e+05  1.333650e+05  8.040971e+05  493446.154834   \n",
       "PATNA       2.534969e+06  7.453814e+05  8.448295e+05  949455.256917   \n",
       "TRIVANDRUM  3.401179e+06  2.122722e+06  2.729088e+05  372614.285714   \n",
       "\n",
       "Product                   \n",
       "Years               2006  \n",
       "City                      \n",
       "BANGALORE   1.650719e+06  \n",
       "BOMBAY      8.494748e+05  \n",
       "CALCUTTA    8.761541e+05  \n",
       "CHENNAI     3.133881e+05  \n",
       "COCHIN      1.100866e+06  \n",
       "DELHI       7.607706e+05  \n",
       "PATNA       6.972589e+05  \n",
       "TRIVANDRUM  5.335627e+05  "
      ]
     },
     "execution_count": 134,
     "metadata": {},
     "output_type": "execute_result"
    }
   ],
   "source": [
    "city_wise_spend = semi_final_data.pivot_table(index = 'City',columns = ['Product','Years'],values = 'Amount',aggfunc= sum)\n",
    "city_wise_spend"
   ]
  },
  {
   "cell_type": "code",
   "execution_count": 135,
   "id": "6ea4b63b",
   "metadata": {},
   "outputs": [
    {
     "data": {
      "image/png": "[encoded data removed]",
      "text/plain": [
       "<Figure size 1080x432 with 1 Axes>"
      ]
     },
     "metadata": {},
     "output_type": "display_data"
    }
   ],
   "source": [
    "city_wise_spend.plot(kind = 'bar',stacked = True,figsize = (15,6))\n",
    "\n",
    "plt.show()"
   ]
  },
  {
   "cell_type": "markdown",
   "id": "dd30f143",
   "metadata": {},
   "source": [
    "## 4. Create graphs for"
   ]
  },
  {
   "cell_type": "markdown",
   "id": "8cf4009f",
   "metadata": {},
   "source": [
    "### a. Monthly comparison of total spends, city wise"
   ]
  },
  {
   "cell_type": "code",
   "execution_count": 117,
   "id": "ca381541",
   "metadata": {},
   "outputs": [],
   "source": [
    "semi_final_data['Months'] = semi_final_data.Month.dt.strftime(\"%B\")"
   ]
  },
  {
   "cell_type": "code",
   "execution_count": 118,
   "id": "045ae36e",
   "metadata": {},
   "outputs": [],
   "source": [
    "comp = semi_final_data.pivot_table(index = 'Months',columns = \"City\",values = 'Amount',aggfunc = 'sum')"
   ]
  },
  {
   "cell_type": "code",
   "execution_count": 180,
   "id": "c556cbab",
   "metadata": {},
   "outputs": [
    {
     "data": {
      "image/png": "[encoded data removed]",
      "text/plain": [
       "<Figure size 1296x360 with 1 Axes>"
      ]
     },
     "metadata": {},
     "output_type": "display_data"
    }
   ],
   "source": [
    "comp.plot(kind='bar',figsize = (18,5))\n",
    "plt.xlabel(\"Month\")\n",
    "plt.ylabel(\"Amount Spend\")\n",
    "plt.title(\"Monthly comparison of total spends, city wise\")\n",
    "plt.show()"
   ]
  },
  {
   "cell_type": "markdown",
   "id": "2713870b",
   "metadata": {},
   "source": [
    "### b. Comparison of yearly spend on air tickets"
   ]
  },
  {
   "cell_type": "code",
   "execution_count": 185,
   "id": "0f88f4a5",
   "metadata": {},
   "outputs": [
    {
     "data": {
      "image/png": "[encoded data removed]",
      "text/plain": [
       "<Figure size 432x288 with 1 Axes>"
      ]
     },
     "metadata": {},
     "output_type": "display_data"
    }
   ],
   "source": [
    "air_ticket = semi_final_data[semi_final_data.Type=='AIR TICKET'].pivot_table(index = 'Years',values = 'Amount',aggfunc= sum).reset_index()\n",
    "sns.barplot(data=air_ticket,x='Years',y='Amount')\n",
    "plt.title('Comparison of yearly spend on air tickets')\n",
    "plt.show()"
   ]
  },
  {
   "cell_type": "markdown",
   "id": "3ac5e546",
   "metadata": {},
   "source": [
    "### c. Comparison of monthly spend for each product (look for any seasonality     that exists in terms of spend)\n"
   ]
  },
  {
   "cell_type": "code",
   "execution_count": 121,
   "id": "9bee14c8",
   "metadata": {},
   "outputs": [],
   "source": [
    "# 2005 Data\n",
    "\n",
    "sd =  semi_final_data[(semi_final_data.Month.dt.year > 2004) & (semi_final_data.Month.dt.year < 2006)]"
   ]
  },
  {
   "cell_type": "code",
   "execution_count": 136,
   "id": "cdef5435",
   "metadata": {},
   "outputs": [],
   "source": [
    "monthly_spend_d = sd.pivot_table(index = 'Months',columns = 'Product',values='Amount',aggfunc=sum)"
   ]
  },
  {
   "cell_type": "code",
   "execution_count": 137,
   "id": "d7d97f8c",
   "metadata": {},
   "outputs": [
    {
     "data": {
      "image/png": "[encoded data removed]",
      "text/plain": [
       "<Figure size 1008x360 with 1 Axes>"
      ]
     },
     "metadata": {},
     "output_type": "display_data"
    }
   ],
   "source": [
    "monthly_spend_d.plot(kind='bar',stacked = True,figsize=(14,5))\n",
    "plt.show()"
   ]
  },
  {
   "cell_type": "markdown",
   "id": "f6fbb19d",
   "metadata": {},
   "source": [
    "### 5. Write user defined PYTHON function to perform the following analysis: "
   ]
  },
  {
   "cell_type": "markdown",
   "id": "2bfa05cc",
   "metadata": {},
   "source": [
    "### You need to find top 10 customers for each city in terms of their repayment amount by different products and by different time periods i.e. year or month. The user should be able to specify the product (Gold/Silver/Platinum) and time period (yearly or monthly) and the function should automatically take these inputs while identifying the top 10 customers.\n"
   ]
  },
  {
   "cell_type": "code",
   "execution_count": 124,
   "id": "a381af6e",
   "metadata": {},
   "outputs": [],
   "source": [
    "def summary_report(data,**kwargs):\n",
    "    print('Give the product name and timeperiod for which you want the data')\n",
    "    for key in kwargs.keys():\n",
    "        if key == 'product' :\n",
    "            c = data[data.Product == kwargs['product']]\n",
    "    for keys in kwargs.keys():\n",
    "        if keys == 'timeperiod':\n",
    "            r = c.pivot_table(index = ('City','Customer'),columns = [kwargs['timeperiod']],values = 'Amount_Repayment',aggfunc=sum).fillna(\"No Repayment\")\n",
    "            return r\n"
   ]
  },
  {
   "cell_type": "code",
   "execution_count": 127,
   "id": "c6e5c0ad",
   "metadata": {},
   "outputs": [
    {
     "name": "stdout",
     "output_type": "stream",
     "text": [
      "Products are :  {'Gold', 'Platimum', 'Silver'}\n",
      "Time period : {Months, Years}\n",
      "Enter a product namePlatimum\n",
      "Enter timeperiodYears\n",
      "Give the product name and timeperiod for which you want the data\n"
     ]
    },
    {
     "data": {
      "text/html": [
       "<div>\n",
       "<style scoped>\n",
       "    .dataframe tbody tr th:only-of-type {\n",
       "        vertical-align: middle;\n",
       "    }\n",
       "\n",
       "    .dataframe tbody tr th {\n",
       "        vertical-align: top;\n",
       "    }\n",
       "\n",
       "    .dataframe thead th {\n",
       "        text-align: right;\n",
       "    }\n",
       "</style>\n",
       "<table border=\"1\" class=\"dataframe\">\n",
       "  <thead>\n",
       "    <tr style=\"text-align: right;\">\n",
       "      <th></th>\n",
       "      <th>Years</th>\n",
       "      <th>2004</th>\n",
       "      <th>2005</th>\n",
       "      <th>2006</th>\n",
       "    </tr>\n",
       "    <tr>\n",
       "      <th>City</th>\n",
       "      <th>Customer</th>\n",
       "      <th></th>\n",
       "      <th></th>\n",
       "      <th></th>\n",
       "    </tr>\n",
       "  </thead>\n",
       "  <tbody>\n",
       "    <tr>\n",
       "      <th rowspan=\"4\" valign=\"top\">BANGALORE</th>\n",
       "      <th>A19</th>\n",
       "      <td>50000.0</td>\n",
       "      <td>70000.0</td>\n",
       "      <td>80000.0</td>\n",
       "    </tr>\n",
       "    <tr>\n",
       "      <th>A37</th>\n",
       "      <td>824179.130359</td>\n",
       "      <td>1055141.914174</td>\n",
       "      <td>999522.102977</td>\n",
       "    </tr>\n",
       "    <tr>\n",
       "      <th>A5</th>\n",
       "      <td>70014.0</td>\n",
       "      <td>60012.0</td>\n",
       "      <td>40008.0</td>\n",
       "    </tr>\n",
       "    <tr>\n",
       "      <th>A52</th>\n",
       "      <td>214150.462495</td>\n",
       "      <td>869538.712297</td>\n",
       "      <td>600012.0</td>\n",
       "    </tr>\n",
       "    <tr>\n",
       "      <th rowspan=\"6\" valign=\"top\">BOMBAY</th>\n",
       "      <th>A33</th>\n",
       "      <td>20004.0</td>\n",
       "      <td>40008.0</td>\n",
       "      <td>80016.0</td>\n",
       "    </tr>\n",
       "    <tr>\n",
       "      <th>A36</th>\n",
       "      <td>798216.137533</td>\n",
       "      <td>938528.613092</td>\n",
       "      <td>977872.830355</td>\n",
       "    </tr>\n",
       "    <tr>\n",
       "      <th>A4</th>\n",
       "      <td>30003.0</td>\n",
       "      <td>40004.0</td>\n",
       "      <td>40004.0</td>\n",
       "    </tr>\n",
       "    <tr>\n",
       "      <th>A51</th>\n",
       "      <td>462511.062232</td>\n",
       "      <td>351144.223427</td>\n",
       "      <td>593056.03195</td>\n",
       "    </tr>\n",
       "    <tr>\n",
       "      <th>A70</th>\n",
       "      <td>No Repayment</td>\n",
       "      <td>20002.0</td>\n",
       "      <td>No Repayment</td>\n",
       "    </tr>\n",
       "    <tr>\n",
       "      <th>A71</th>\n",
       "      <td>10002.0</td>\n",
       "      <td>10002.0</td>\n",
       "      <td>No Repayment</td>\n",
       "    </tr>\n",
       "    <tr>\n",
       "      <th rowspan=\"7\" valign=\"top\">CALCUTTA</th>\n",
       "      <th>A20</th>\n",
       "      <td>70007.0</td>\n",
       "      <td>60006.0</td>\n",
       "      <td>70007.0</td>\n",
       "    </tr>\n",
       "    <tr>\n",
       "      <th>A34</th>\n",
       "      <td>100000.0</td>\n",
       "      <td>448634.804912</td>\n",
       "      <td>799773.297965</td>\n",
       "    </tr>\n",
       "    <tr>\n",
       "      <th>A40</th>\n",
       "      <td>3656725.572807</td>\n",
       "      <td>2286497.612068</td>\n",
       "      <td>1728572.598171</td>\n",
       "    </tr>\n",
       "    <tr>\n",
       "      <th>A49</th>\n",
       "      <td>100020.0</td>\n",
       "      <td>123201.542179</td>\n",
       "      <td>80016.0</td>\n",
       "    </tr>\n",
       "    <tr>\n",
       "      <th>A69</th>\n",
       "      <td>No Repayment</td>\n",
       "      <td>10000.0</td>\n",
       "      <td>10000.0</td>\n",
       "    </tr>\n",
       "    <tr>\n",
       "      <th>A98</th>\n",
       "      <td>10001.0</td>\n",
       "      <td>No Repayment</td>\n",
       "      <td>No Repayment</td>\n",
       "    </tr>\n",
       "    <tr>\n",
       "      <th>A99</th>\n",
       "      <td>10002.0</td>\n",
       "      <td>No Repayment</td>\n",
       "      <td>No Repayment</td>\n",
       "    </tr>\n",
       "    <tr>\n",
       "      <th rowspan=\"3\" valign=\"top\">CHENNAI</th>\n",
       "      <th>A38</th>\n",
       "      <td>2528687.494326</td>\n",
       "      <td>2751601.978166</td>\n",
       "      <td>2925047.031916</td>\n",
       "    </tr>\n",
       "    <tr>\n",
       "      <th>A47</th>\n",
       "      <td>60000.0</td>\n",
       "      <td>160000.0</td>\n",
       "      <td>90000.0</td>\n",
       "    </tr>\n",
       "    <tr>\n",
       "      <th>A56</th>\n",
       "      <td>365715.327415</td>\n",
       "      <td>1639756.138977</td>\n",
       "      <td>2645769.404734</td>\n",
       "    </tr>\n",
       "    <tr>\n",
       "      <th rowspan=\"7\" valign=\"top\">COCHIN</th>\n",
       "      <th>A21</th>\n",
       "      <td>110022.0</td>\n",
       "      <td>140028.0</td>\n",
       "      <td>75233.966213</td>\n",
       "    </tr>\n",
       "    <tr>\n",
       "      <th>A3</th>\n",
       "      <td>30000.0</td>\n",
       "      <td>50000.0</td>\n",
       "      <td>30000.0</td>\n",
       "    </tr>\n",
       "    <tr>\n",
       "      <th>A35</th>\n",
       "      <td>100001.0</td>\n",
       "      <td>414346.030244</td>\n",
       "      <td>703975.421766</td>\n",
       "    </tr>\n",
       "    <tr>\n",
       "      <th>A41</th>\n",
       "      <td>2044269.560462</td>\n",
       "      <td>2723125.90817</td>\n",
       "      <td>2418166.137598</td>\n",
       "    </tr>\n",
       "    <tr>\n",
       "      <th>A50</th>\n",
       "      <td>400000.0</td>\n",
       "      <td>473512.63329</td>\n",
       "      <td>815797.54841</td>\n",
       "    </tr>\n",
       "    <tr>\n",
       "      <th>A54</th>\n",
       "      <td>38402.140382</td>\n",
       "      <td>2057929.200376</td>\n",
       "      <td>2553450.56484</td>\n",
       "    </tr>\n",
       "    <tr>\n",
       "      <th>A83</th>\n",
       "      <td>No Repayment</td>\n",
       "      <td>No Repayment</td>\n",
       "      <td>10002.0</td>\n",
       "    </tr>\n",
       "    <tr>\n",
       "      <th>DELHI</th>\n",
       "      <th>A53</th>\n",
       "      <td>573785.076047</td>\n",
       "      <td>648881.635695</td>\n",
       "      <td>401191.96103</td>\n",
       "    </tr>\n",
       "    <tr>\n",
       "      <th>PATNA</th>\n",
       "      <th>A55</th>\n",
       "      <td>444463.831072</td>\n",
       "      <td>680366.593789</td>\n",
       "      <td>3401948.101769</td>\n",
       "    </tr>\n",
       "    <tr>\n",
       "      <th rowspan=\"3\" valign=\"top\">TRIVANDRUM</th>\n",
       "      <th>A39</th>\n",
       "      <td>1213123.499203</td>\n",
       "      <td>3914632.149602</td>\n",
       "      <td>1763694.446299</td>\n",
       "    </tr>\n",
       "    <tr>\n",
       "      <th>A48</th>\n",
       "      <td>70007.0</td>\n",
       "      <td>140014.0</td>\n",
       "      <td>100010.0</td>\n",
       "    </tr>\n",
       "    <tr>\n",
       "      <th>A97</th>\n",
       "      <td>10000.0</td>\n",
       "      <td>No Repayment</td>\n",
       "      <td>No Repayment</td>\n",
       "    </tr>\n",
       "  </tbody>\n",
       "</table>\n",
       "</div>"
      ],
      "text/plain": [
       "Years                          2004            2005            2006\n",
       "City       Customer                                                \n",
       "BANGALORE  A19              50000.0         70000.0         80000.0\n",
       "           A37        824179.130359  1055141.914174   999522.102977\n",
       "           A5               70014.0         60012.0         40008.0\n",
       "           A52        214150.462495   869538.712297        600012.0\n",
       "BOMBAY     A33              20004.0         40008.0         80016.0\n",
       "           A36        798216.137533   938528.613092   977872.830355\n",
       "           A4               30003.0         40004.0         40004.0\n",
       "           A51        462511.062232   351144.223427    593056.03195\n",
       "           A70         No Repayment         20002.0    No Repayment\n",
       "           A71              10002.0         10002.0    No Repayment\n",
       "CALCUTTA   A20              70007.0         60006.0         70007.0\n",
       "           A34             100000.0   448634.804912   799773.297965\n",
       "           A40       3656725.572807  2286497.612068  1728572.598171\n",
       "           A49             100020.0   123201.542179         80016.0\n",
       "           A69         No Repayment         10000.0         10000.0\n",
       "           A98              10001.0    No Repayment    No Repayment\n",
       "           A99              10002.0    No Repayment    No Repayment\n",
       "CHENNAI    A38       2528687.494326  2751601.978166  2925047.031916\n",
       "           A47              60000.0        160000.0         90000.0\n",
       "           A56        365715.327415  1639756.138977  2645769.404734\n",
       "COCHIN     A21             110022.0        140028.0    75233.966213\n",
       "           A3               30000.0         50000.0         30000.0\n",
       "           A35             100001.0   414346.030244   703975.421766\n",
       "           A41       2044269.560462   2723125.90817  2418166.137598\n",
       "           A50             400000.0    473512.63329    815797.54841\n",
       "           A54         38402.140382  2057929.200376   2553450.56484\n",
       "           A83         No Repayment    No Repayment         10002.0\n",
       "DELHI      A53        573785.076047   648881.635695    401191.96103\n",
       "PATNA      A55        444463.831072   680366.593789  3401948.101769\n",
       "TRIVANDRUM A39       1213123.499203  3914632.149602  1763694.446299\n",
       "           A48              70007.0        140014.0        100010.0\n",
       "           A97              10000.0    No Repayment    No Repayment"
      ]
     },
     "execution_count": 127,
     "metadata": {},
     "output_type": "execute_result"
    }
   ],
   "source": [
    "print(\"Products are : \",set(final_data.Product))\n",
    "print(\"Time period : {Months, Years}\")\n",
    "summary_report(final_data,product = input(\"Enter a product name\"),timeperiod = input(\"Enter timeperiod\"))"
   ]
  },
  {
   "cell_type": "code",
   "execution_count": null,
   "id": "4670805b",
   "metadata": {},
   "outputs": [],
   "source": []
  }
 ],
 "metadata": {
  "kernelspec": {
   "display_name": "Python 3 (ipykernel)",
   "language": "python",
   "name": "python3"
  },
  "language_info": {
   "codemirror_mode": {
    "name": "ipython",
    "version": 3
   },
   "file_extension": ".py",
   "mimetype": "text/x-python",
   "name": "python",
   "nbconvert_exporter": "python",
   "pygments_lexer": "ipython3",
   "version": "3.9.7"
  }
 },
 "nbformat": 4,
 "nbformat_minor": 5
}
